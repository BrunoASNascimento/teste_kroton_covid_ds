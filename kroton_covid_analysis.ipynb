{
  "nbformat": 4,
  "nbformat_minor": 0,
  "metadata": {
    "language_info": {
      "codemirror_mode": {
        "name": "ipython",
        "version": 3
      },
      "file_extension": ".py",
      "mimetype": "text/x-python",
      "name": "python",
      "nbconvert_exporter": "python",
      "pygments_lexer": "ipython3",
      "version": "3.8.5-final"
    },
    "orig_nbformat": 2,
    "kernelspec": {
      "name": "python3",
      "display_name": "Python 3"
    },
    "colab": {
      "name": "analysis.ipynb",
      "provenance": [],
      "include_colab_link": true
    }
  },
  "cells": [
    {
      "cell_type": "markdown",
      "metadata": {
        "id": "view-in-github",
        "colab_type": "text"
      },
      "source": [
        "<a href=\"https://colab.research.google.com/github/BrunoASNascimento/teste_kroton_covid_ds/blob/main/kroton_covid_analysis.ipynb\" target=\"_parent\"><img src=\"https://colab.research.google.com/assets/colab-badge.svg\" alt=\"Open In Colab\"/></a>"
      ]
    },
    {
      "cell_type": "markdown",
      "metadata": {
        "id": "rzMVJd7VVLrC"
      },
      "source": [
        "# Desafio:\n",
        "\n",
        "- Em Novembro 2020, o comitê de risco da Kroton solicitou a equipe de Arquitetura de processos do aluno, analisar possíveis impactos do cenário COVID nos alunos calouros da modalidade presencial distribuídos por todo o Brasil.\n",
        "- A ideia principal é entender se existe algum comportamento comum destes alunos, e tentar estruturar planos para melhorar a experiência deste aluno dentro do contexto da Pandemia.\n",
        "- Além disso, o comitê de risco da Kroton também quer saber se a estratégia que foi traçada com o time do comercial de ter uma evasão máxima de 5% dos alunos calouros e uma taxa de transferência para a modalidade EAD máxima de 1% foi atendida até o momento. Em caso negativo, quais seriam as possíveis estratégias para os alunos que ainda não efetivaram sua matrícula de alcançar esta meta?\n",
        "- O comitê tem disponível R$ 2MM de verba para investir em ações para mitigar os impactos do COVID na instituição. Como você recomendaria a aplicação deste montante?\n",
        "- Sendo assim, você deverá preparar uma apresentação em Power Point para apresentar, em no máximo 30 min, para este comitê trazendo as respostas e insights descritos nos pontos acima.\n",
        "\n",
        "\n",
        "\n"
      ]
    },
    {
      "cell_type": "markdown",
      "metadata": {
        "id": "XelkRjz7VIea"
      },
      "source": [
        "# Imports\n"
      ]
    },
    {
      "cell_type": "code",
      "metadata": {
        "id": "SgrX3DX3idxl"
      },
      "source": [
        "import pandas as pd\n",
        "import seaborn as sns\n",
        "from matplotlib import pyplot as plt"
      ],
      "execution_count": 1,
      "outputs": []
    },
    {
      "cell_type": "markdown",
      "metadata": {
        "id": "FN25PG71WA-i"
      },
      "source": [
        "# Leitura dos dados\n",
        "\n",
        "Os dados \"Aux_Curso.xlsx\", \"Aux_chamado.xlsx\", \"Base_Chamados.xlsx\" e \"Base_log_calouros.xlsx\", são os dados providos pela Kroton, para análise, achei necessário fazer a extração de mais uma base para compor a análise, \"covid_hist_brasil.csv” (Fonte: https://covid.saude.gov.br/)."
      ]
    },
    {
      "cell_type": "code",
      "metadata": {
        "colab": {
          "base_uri": "https://localhost:8080/"
        },
        "id": "ums9YNY0idxl",
        "outputId": "17ec9c2d-060c-444a-cb7e-50b6643a6b31"
      },
      "source": [
        "df_aux_curso = pd.read_excel('data/Aux_Curso.xlsx',index_col=0)\n",
        "df_aux_chamado = pd.read_excel('data/Aux_chamado.xlsx',index_col=0)\n",
        "df_base_chamado = pd.read_excel('data/Base_Chamados.xlsx',index_col=0)\n",
        "df_base_calouros = pd.read_excel('data/Base_log_calouros.xlsx',index_col=0)\n",
        "df_covid = pd.read_csv('data/covid_hist_brasil.csv',sep=';')\n",
        "\n",
        "print(f'df_aux_curso: {df_aux_curso.shape}')\n",
        "print(f'df_aux_chamado: {df_aux_chamado.shape}')\n",
        "print(f'df_base_chamado: {df_base_chamado.shape}')\n",
        "print(f'df_base_calouros: {df_base_calouros.shape}')\n",
        "print(f'df_covid: {df_base_calouros.shape}')"
      ],
      "execution_count": 2,
      "outputs": [
        {
          "output_type": "stream",
          "text": [
            "df_aux_curso: (3652, 3)\n",
            "df_aux_chamado: (83, 3)\n",
            "df_base_chamado: (938182, 5)\n",
            "df_base_calouros: (246110, 5)\n",
            "df_covid: (246110, 5)\n"
          ],
          "name": "stdout"
        }
      ]
    },
    {
      "cell_type": "markdown",
      "metadata": {
        "id": "LYBgAsJeW_kL"
      },
      "source": [
        "# Visualização dos dados\n"
      ]
    },
    {
      "cell_type": "code",
      "metadata": {
        "colab": {
          "base_uri": "https://localhost:8080/",
          "height": 204
        },
        "id": "Wr1JdbAaoIh9",
        "outputId": "ea8b5410-2b83-4f58-a9d2-ff0865dc4439"
      },
      "source": [
        "df_aux_curso.head()"
      ],
      "execution_count": 3,
      "outputs": [
        {
          "output_type": "execute_result",
          "data": {
            "text/plain": [
              "   CODIGO_CURSO  Ticket médio mensal Grande área do curso\n",
              "0             3                  241              Humanas\n",
              "1             6                  143              Humanas\n",
              "2           243                  226              Humanas\n",
              "3           246                  347              Humanas\n",
              "4           258                  107              Humanas"
            ],
            "text/html": [
              "<div>\n",
              "<style scoped>\n",
              "    .dataframe tbody tr th:only-of-type {\n",
              "        vertical-align: middle;\n",
              "    }\n",
              "\n",
              "    .dataframe tbody tr th {\n",
              "        vertical-align: top;\n",
              "    }\n",
              "\n",
              "    .dataframe thead th {\n",
              "        text-align: right;\n",
              "    }\n",
              "</style>\n",
              "<table border=\"1\" class=\"dataframe\">\n",
              "  <thead>\n",
              "    <tr style=\"text-align: right;\">\n",
              "      <th></th>\n",
              "      <th>CODIGO_CURSO</th>\n",
              "      <th>Ticket médio mensal</th>\n",
              "      <th>Grande área do curso</th>\n",
              "    </tr>\n",
              "  </thead>\n",
              "  <tbody>\n",
              "    <tr>\n",
              "      <th>0</th>\n",
              "      <td>3</td>\n",
              "      <td>241</td>\n",
              "      <td>Humanas</td>\n",
              "    </tr>\n",
              "    <tr>\n",
              "      <th>1</th>\n",
              "      <td>6</td>\n",
              "      <td>143</td>\n",
              "      <td>Humanas</td>\n",
              "    </tr>\n",
              "    <tr>\n",
              "      <th>2</th>\n",
              "      <td>243</td>\n",
              "      <td>226</td>\n",
              "      <td>Humanas</td>\n",
              "    </tr>\n",
              "    <tr>\n",
              "      <th>3</th>\n",
              "      <td>246</td>\n",
              "      <td>347</td>\n",
              "      <td>Humanas</td>\n",
              "    </tr>\n",
              "    <tr>\n",
              "      <th>4</th>\n",
              "      <td>258</td>\n",
              "      <td>107</td>\n",
              "      <td>Humanas</td>\n",
              "    </tr>\n",
              "  </tbody>\n",
              "</table>\n",
              "</div>"
            ]
          },
          "metadata": {
            "tags": []
          },
          "execution_count": 3
        }
      ]
    },
    {
      "cell_type": "code",
      "metadata": {
        "colab": {
          "base_uri": "https://localhost:8080/",
          "height": 204
        },
        "id": "3DndhmuvoWIV",
        "outputId": "c9df5ed4-52c5-40e4-e21f-f3ba4e7a0ecc"
      },
      "source": [
        "df_aux_chamado.head()"
      ],
      "execution_count": 4,
      "outputs": [
        {
          "output_type": "execute_result",
          "data": {
            "text/plain": [
              "                                   SHORT_DESCRIPTION  FRENTE  \\\n",
              "0  KrotonPDA > Serviços Acadêmicos > Atestado de ...  PORTAL   \n",
              "1  KrotonPDA > Serviços Acadêmicos > Histórico Es...  PORTAL   \n",
              "2  KrotonPDA > Serviços Acadêmicos > Inclusão de ...  PORTAL   \n",
              "3  KrotonPDA > Serviços Acadêmicos > Suspensão de...  PORTAL   \n",
              "4  KrotonPDA > Serviços Financeiros >  Alterar o ...  PORTAL   \n",
              "\n",
              "  ÁREA DE SUPORTE RESPONSÁVEL  \n",
              "0        Secretaria Acadêmica  \n",
              "1        Secretaria Acadêmica  \n",
              "2        Secretaria Acadêmica  \n",
              "3        Secretaria Acadêmica  \n",
              "4                  Financeiro  "
            ],
            "text/html": [
              "<div>\n",
              "<style scoped>\n",
              "    .dataframe tbody tr th:only-of-type {\n",
              "        vertical-align: middle;\n",
              "    }\n",
              "\n",
              "    .dataframe tbody tr th {\n",
              "        vertical-align: top;\n",
              "    }\n",
              "\n",
              "    .dataframe thead th {\n",
              "        text-align: right;\n",
              "    }\n",
              "</style>\n",
              "<table border=\"1\" class=\"dataframe\">\n",
              "  <thead>\n",
              "    <tr style=\"text-align: right;\">\n",
              "      <th></th>\n",
              "      <th>SHORT_DESCRIPTION</th>\n",
              "      <th>FRENTE</th>\n",
              "      <th>ÁREA DE SUPORTE RESPONSÁVEL</th>\n",
              "    </tr>\n",
              "  </thead>\n",
              "  <tbody>\n",
              "    <tr>\n",
              "      <th>0</th>\n",
              "      <td>KrotonPDA &gt; Serviços Acadêmicos &gt; Atestado de ...</td>\n",
              "      <td>PORTAL</td>\n",
              "      <td>Secretaria Acadêmica</td>\n",
              "    </tr>\n",
              "    <tr>\n",
              "      <th>1</th>\n",
              "      <td>KrotonPDA &gt; Serviços Acadêmicos &gt; Histórico Es...</td>\n",
              "      <td>PORTAL</td>\n",
              "      <td>Secretaria Acadêmica</td>\n",
              "    </tr>\n",
              "    <tr>\n",
              "      <th>2</th>\n",
              "      <td>KrotonPDA &gt; Serviços Acadêmicos &gt; Inclusão de ...</td>\n",
              "      <td>PORTAL</td>\n",
              "      <td>Secretaria Acadêmica</td>\n",
              "    </tr>\n",
              "    <tr>\n",
              "      <th>3</th>\n",
              "      <td>KrotonPDA &gt; Serviços Acadêmicos &gt; Suspensão de...</td>\n",
              "      <td>PORTAL</td>\n",
              "      <td>Secretaria Acadêmica</td>\n",
              "    </tr>\n",
              "    <tr>\n",
              "      <th>4</th>\n",
              "      <td>KrotonPDA &gt; Serviços Financeiros &gt;  Alterar o ...</td>\n",
              "      <td>PORTAL</td>\n",
              "      <td>Financeiro</td>\n",
              "    </tr>\n",
              "  </tbody>\n",
              "</table>\n",
              "</div>"
            ]
          },
          "metadata": {
            "tags": []
          },
          "execution_count": 4
        }
      ]
    },
    {
      "cell_type": "code",
      "metadata": {
        "colab": {
          "base_uri": "https://localhost:8080/",
          "height": 204
        },
        "id": "fOPoKAamob8m",
        "outputId": "91975fc3-a6bc-40d6-98a4-889f0911880a"
      },
      "source": [
        "df_base_chamado.head()"
      ],
      "execution_count": 5,
      "outputs": [
        {
          "output_type": "execute_result",
          "data": {
            "text/plain": [
              "    NUMBER_SN      SYS_CREATED_ON  \\\n",
              "1   CS2245705 2020-03-14 14:08:30   \n",
              "4   CS1496976 2020-01-30 16:14:06   \n",
              "5   CS1541894 2020-02-04 15:01:09   \n",
              "9   CS1550304 2020-02-04 20:57:00   \n",
              "12  CS1913239 2020-03-03 12:23:24   \n",
              "\n",
              "                                    SHORT_DESCRIPTION      RA_ALUNO  FRENTE  \n",
              "1   PAD > 1. Graduação Presencial > Atendimento de...    3489323595    PRES  \n",
              "4   PDA > Serviços Acadêmicos > Entregar Atividade...     818823833  PORTAL  \n",
              "5   PDA > Serviços Acadêmicos > Atestado de Matrícula  379127814579  PORTAL  \n",
              "9   PDA > Serviços Financeiros > Não Consigo Gerar...  365392513920  PORTAL  \n",
              "12  PDA > Serviços Acadêmicos > Alterar Meu Curso ...  373087769067  PORTAL  "
            ],
            "text/html": [
              "<div>\n",
              "<style scoped>\n",
              "    .dataframe tbody tr th:only-of-type {\n",
              "        vertical-align: middle;\n",
              "    }\n",
              "\n",
              "    .dataframe tbody tr th {\n",
              "        vertical-align: top;\n",
              "    }\n",
              "\n",
              "    .dataframe thead th {\n",
              "        text-align: right;\n",
              "    }\n",
              "</style>\n",
              "<table border=\"1\" class=\"dataframe\">\n",
              "  <thead>\n",
              "    <tr style=\"text-align: right;\">\n",
              "      <th></th>\n",
              "      <th>NUMBER_SN</th>\n",
              "      <th>SYS_CREATED_ON</th>\n",
              "      <th>SHORT_DESCRIPTION</th>\n",
              "      <th>RA_ALUNO</th>\n",
              "      <th>FRENTE</th>\n",
              "    </tr>\n",
              "  </thead>\n",
              "  <tbody>\n",
              "    <tr>\n",
              "      <th>1</th>\n",
              "      <td>CS2245705</td>\n",
              "      <td>2020-03-14 14:08:30</td>\n",
              "      <td>PAD &gt; 1. Graduação Presencial &gt; Atendimento de...</td>\n",
              "      <td>3489323595</td>\n",
              "      <td>PRES</td>\n",
              "    </tr>\n",
              "    <tr>\n",
              "      <th>4</th>\n",
              "      <td>CS1496976</td>\n",
              "      <td>2020-01-30 16:14:06</td>\n",
              "      <td>PDA &gt; Serviços Acadêmicos &gt; Entregar Atividade...</td>\n",
              "      <td>818823833</td>\n",
              "      <td>PORTAL</td>\n",
              "    </tr>\n",
              "    <tr>\n",
              "      <th>5</th>\n",
              "      <td>CS1541894</td>\n",
              "      <td>2020-02-04 15:01:09</td>\n",
              "      <td>PDA &gt; Serviços Acadêmicos &gt; Atestado de Matrícula</td>\n",
              "      <td>379127814579</td>\n",
              "      <td>PORTAL</td>\n",
              "    </tr>\n",
              "    <tr>\n",
              "      <th>9</th>\n",
              "      <td>CS1550304</td>\n",
              "      <td>2020-02-04 20:57:00</td>\n",
              "      <td>PDA &gt; Serviços Financeiros &gt; Não Consigo Gerar...</td>\n",
              "      <td>365392513920</td>\n",
              "      <td>PORTAL</td>\n",
              "    </tr>\n",
              "    <tr>\n",
              "      <th>12</th>\n",
              "      <td>CS1913239</td>\n",
              "      <td>2020-03-03 12:23:24</td>\n",
              "      <td>PDA &gt; Serviços Acadêmicos &gt; Alterar Meu Curso ...</td>\n",
              "      <td>373087769067</td>\n",
              "      <td>PORTAL</td>\n",
              "    </tr>\n",
              "  </tbody>\n",
              "</table>\n",
              "</div>"
            ]
          },
          "metadata": {
            "tags": []
          },
          "execution_count": 5
        }
      ]
    },
    {
      "cell_type": "code",
      "metadata": {
        "colab": {
          "base_uri": "https://localhost:8080/",
          "height": 204
        },
        "id": "NMIH7R-MoczO",
        "outputId": "6896ab3f-6063-4428-8a38-8d094609c9fb"
      },
      "source": [
        "df_base_calouros.head()"
      ],
      "execution_count": 6,
      "outputs": [
        {
          "output_type": "execute_result",
          "data": {
            "text/plain": [
              "    CODIGO_ALUNO  CODIGO_CURSO   DATA_LOG SITUACAO_ALUNO TIPO_ALUNO\n",
              "13      11185893           543 2020-06-25              E    Calouro\n",
              "14      11185893           543 2020-01-04              C    Calouro\n",
              "15      11185893           543 2020-01-03              P    Calouro\n",
              "19       3941358          2802 2020-02-20              C    Calouro\n",
              "20       3941358          2802 2020-01-22              P    Calouro"
            ],
            "text/html": [
              "<div>\n",
              "<style scoped>\n",
              "    .dataframe tbody tr th:only-of-type {\n",
              "        vertical-align: middle;\n",
              "    }\n",
              "\n",
              "    .dataframe tbody tr th {\n",
              "        vertical-align: top;\n",
              "    }\n",
              "\n",
              "    .dataframe thead th {\n",
              "        text-align: right;\n",
              "    }\n",
              "</style>\n",
              "<table border=\"1\" class=\"dataframe\">\n",
              "  <thead>\n",
              "    <tr style=\"text-align: right;\">\n",
              "      <th></th>\n",
              "      <th>CODIGO_ALUNO</th>\n",
              "      <th>CODIGO_CURSO</th>\n",
              "      <th>DATA_LOG</th>\n",
              "      <th>SITUACAO_ALUNO</th>\n",
              "      <th>TIPO_ALUNO</th>\n",
              "    </tr>\n",
              "  </thead>\n",
              "  <tbody>\n",
              "    <tr>\n",
              "      <th>13</th>\n",
              "      <td>11185893</td>\n",
              "      <td>543</td>\n",
              "      <td>2020-06-25</td>\n",
              "      <td>E</td>\n",
              "      <td>Calouro</td>\n",
              "    </tr>\n",
              "    <tr>\n",
              "      <th>14</th>\n",
              "      <td>11185893</td>\n",
              "      <td>543</td>\n",
              "      <td>2020-01-04</td>\n",
              "      <td>C</td>\n",
              "      <td>Calouro</td>\n",
              "    </tr>\n",
              "    <tr>\n",
              "      <th>15</th>\n",
              "      <td>11185893</td>\n",
              "      <td>543</td>\n",
              "      <td>2020-01-03</td>\n",
              "      <td>P</td>\n",
              "      <td>Calouro</td>\n",
              "    </tr>\n",
              "    <tr>\n",
              "      <th>19</th>\n",
              "      <td>3941358</td>\n",
              "      <td>2802</td>\n",
              "      <td>2020-02-20</td>\n",
              "      <td>C</td>\n",
              "      <td>Calouro</td>\n",
              "    </tr>\n",
              "    <tr>\n",
              "      <th>20</th>\n",
              "      <td>3941358</td>\n",
              "      <td>2802</td>\n",
              "      <td>2020-01-22</td>\n",
              "      <td>P</td>\n",
              "      <td>Calouro</td>\n",
              "    </tr>\n",
              "  </tbody>\n",
              "</table>\n",
              "</div>"
            ]
          },
          "metadata": {
            "tags": []
          },
          "execution_count": 6
        }
      ]
    },
    {
      "cell_type": "code",
      "metadata": {
        "colab": {
          "base_uri": "https://localhost:8080/",
          "height": 204
        },
        "id": "XgQ8mbqtUta2",
        "outputId": "ebc9ea07-6fcc-4a4c-d69a-b7ab680c1abc"
      },
      "source": [
        "df_base_chamado.head()"
      ],
      "execution_count": 7,
      "outputs": [
        {
          "output_type": "execute_result",
          "data": {
            "text/plain": [
              "    NUMBER_SN      SYS_CREATED_ON  \\\n",
              "1   CS2245705 2020-03-14 14:08:30   \n",
              "4   CS1496976 2020-01-30 16:14:06   \n",
              "5   CS1541894 2020-02-04 15:01:09   \n",
              "9   CS1550304 2020-02-04 20:57:00   \n",
              "12  CS1913239 2020-03-03 12:23:24   \n",
              "\n",
              "                                    SHORT_DESCRIPTION      RA_ALUNO  FRENTE  \n",
              "1   PAD > 1. Graduação Presencial > Atendimento de...    3489323595    PRES  \n",
              "4   PDA > Serviços Acadêmicos > Entregar Atividade...     818823833  PORTAL  \n",
              "5   PDA > Serviços Acadêmicos > Atestado de Matrícula  379127814579  PORTAL  \n",
              "9   PDA > Serviços Financeiros > Não Consigo Gerar...  365392513920  PORTAL  \n",
              "12  PDA > Serviços Acadêmicos > Alterar Meu Curso ...  373087769067  PORTAL  "
            ],
            "text/html": [
              "<div>\n",
              "<style scoped>\n",
              "    .dataframe tbody tr th:only-of-type {\n",
              "        vertical-align: middle;\n",
              "    }\n",
              "\n",
              "    .dataframe tbody tr th {\n",
              "        vertical-align: top;\n",
              "    }\n",
              "\n",
              "    .dataframe thead th {\n",
              "        text-align: right;\n",
              "    }\n",
              "</style>\n",
              "<table border=\"1\" class=\"dataframe\">\n",
              "  <thead>\n",
              "    <tr style=\"text-align: right;\">\n",
              "      <th></th>\n",
              "      <th>NUMBER_SN</th>\n",
              "      <th>SYS_CREATED_ON</th>\n",
              "      <th>SHORT_DESCRIPTION</th>\n",
              "      <th>RA_ALUNO</th>\n",
              "      <th>FRENTE</th>\n",
              "    </tr>\n",
              "  </thead>\n",
              "  <tbody>\n",
              "    <tr>\n",
              "      <th>1</th>\n",
              "      <td>CS2245705</td>\n",
              "      <td>2020-03-14 14:08:30</td>\n",
              "      <td>PAD &gt; 1. Graduação Presencial &gt; Atendimento de...</td>\n",
              "      <td>3489323595</td>\n",
              "      <td>PRES</td>\n",
              "    </tr>\n",
              "    <tr>\n",
              "      <th>4</th>\n",
              "      <td>CS1496976</td>\n",
              "      <td>2020-01-30 16:14:06</td>\n",
              "      <td>PDA &gt; Serviços Acadêmicos &gt; Entregar Atividade...</td>\n",
              "      <td>818823833</td>\n",
              "      <td>PORTAL</td>\n",
              "    </tr>\n",
              "    <tr>\n",
              "      <th>5</th>\n",
              "      <td>CS1541894</td>\n",
              "      <td>2020-02-04 15:01:09</td>\n",
              "      <td>PDA &gt; Serviços Acadêmicos &gt; Atestado de Matrícula</td>\n",
              "      <td>379127814579</td>\n",
              "      <td>PORTAL</td>\n",
              "    </tr>\n",
              "    <tr>\n",
              "      <th>9</th>\n",
              "      <td>CS1550304</td>\n",
              "      <td>2020-02-04 20:57:00</td>\n",
              "      <td>PDA &gt; Serviços Financeiros &gt; Não Consigo Gerar...</td>\n",
              "      <td>365392513920</td>\n",
              "      <td>PORTAL</td>\n",
              "    </tr>\n",
              "    <tr>\n",
              "      <th>12</th>\n",
              "      <td>CS1913239</td>\n",
              "      <td>2020-03-03 12:23:24</td>\n",
              "      <td>PDA &gt; Serviços Acadêmicos &gt; Alterar Meu Curso ...</td>\n",
              "      <td>373087769067</td>\n",
              "      <td>PORTAL</td>\n",
              "    </tr>\n",
              "  </tbody>\n",
              "</table>\n",
              "</div>"
            ]
          },
          "metadata": {
            "tags": []
          },
          "execution_count": 7
        }
      ]
    },
    {
      "cell_type": "code",
      "metadata": {
        "colab": {
          "base_uri": "https://localhost:8080/",
          "height": 204
        },
        "id": "NW9bIq8eUta2",
        "outputId": "c05a2345-6b96-4b47-99a1-03ec6203cf0c"
      },
      "source": [
        "df_covid.head()"
      ],
      "execution_count": 8,
      "outputs": [
        {
          "output_type": "execute_result",
          "data": {
            "text/plain": [
              "   regiao  estado  municipio  coduf  codmun  codRegiaoSaude  nomeRegiaoSaude  \\\n",
              "0  Brasil     NaN        NaN     76     NaN             NaN              NaN   \n",
              "1  Brasil     NaN        NaN     76     NaN             NaN              NaN   \n",
              "2  Brasil     NaN        NaN     76     NaN             NaN              NaN   \n",
              "3  Brasil     NaN        NaN     76     NaN             NaN              NaN   \n",
              "4  Brasil     NaN        NaN     76     NaN             NaN              NaN   \n",
              "\n",
              "         data  semanaEpi  populacaoTCU2019  casosAcumulado  casosNovos  \\\n",
              "0  2020-02-25          9       210147125.0               0           0   \n",
              "1  2020-02-26          9       210147125.0               1           1   \n",
              "2  2020-02-27          9       210147125.0               1           0   \n",
              "3  2020-02-28          9       210147125.0               1           0   \n",
              "4  2020-02-29          9       210147125.0               2           1   \n",
              "\n",
              "   obitosAcumulado  obitosNovos  Recuperadosnovos  emAcompanhamentoNovos  \\\n",
              "0                0            0               NaN                    NaN   \n",
              "1                0            0               NaN                    NaN   \n",
              "2                0            0               NaN                    NaN   \n",
              "3                0            0               NaN                    NaN   \n",
              "4                0            0               NaN                    NaN   \n",
              "\n",
              "   interior/metropolitana  \n",
              "0                     NaN  \n",
              "1                     NaN  \n",
              "2                     NaN  \n",
              "3                     NaN  \n",
              "4                     NaN  "
            ],
            "text/html": [
              "<div>\n",
              "<style scoped>\n",
              "    .dataframe tbody tr th:only-of-type {\n",
              "        vertical-align: middle;\n",
              "    }\n",
              "\n",
              "    .dataframe tbody tr th {\n",
              "        vertical-align: top;\n",
              "    }\n",
              "\n",
              "    .dataframe thead th {\n",
              "        text-align: right;\n",
              "    }\n",
              "</style>\n",
              "<table border=\"1\" class=\"dataframe\">\n",
              "  <thead>\n",
              "    <tr style=\"text-align: right;\">\n",
              "      <th></th>\n",
              "      <th>regiao</th>\n",
              "      <th>estado</th>\n",
              "      <th>municipio</th>\n",
              "      <th>coduf</th>\n",
              "      <th>codmun</th>\n",
              "      <th>codRegiaoSaude</th>\n",
              "      <th>nomeRegiaoSaude</th>\n",
              "      <th>data</th>\n",
              "      <th>semanaEpi</th>\n",
              "      <th>populacaoTCU2019</th>\n",
              "      <th>casosAcumulado</th>\n",
              "      <th>casosNovos</th>\n",
              "      <th>obitosAcumulado</th>\n",
              "      <th>obitosNovos</th>\n",
              "      <th>Recuperadosnovos</th>\n",
              "      <th>emAcompanhamentoNovos</th>\n",
              "      <th>interior/metropolitana</th>\n",
              "    </tr>\n",
              "  </thead>\n",
              "  <tbody>\n",
              "    <tr>\n",
              "      <th>0</th>\n",
              "      <td>Brasil</td>\n",
              "      <td>NaN</td>\n",
              "      <td>NaN</td>\n",
              "      <td>76</td>\n",
              "      <td>NaN</td>\n",
              "      <td>NaN</td>\n",
              "      <td>NaN</td>\n",
              "      <td>2020-02-25</td>\n",
              "      <td>9</td>\n",
              "      <td>210147125.0</td>\n",
              "      <td>0</td>\n",
              "      <td>0</td>\n",
              "      <td>0</td>\n",
              "      <td>0</td>\n",
              "      <td>NaN</td>\n",
              "      <td>NaN</td>\n",
              "      <td>NaN</td>\n",
              "    </tr>\n",
              "    <tr>\n",
              "      <th>1</th>\n",
              "      <td>Brasil</td>\n",
              "      <td>NaN</td>\n",
              "      <td>NaN</td>\n",
              "      <td>76</td>\n",
              "      <td>NaN</td>\n",
              "      <td>NaN</td>\n",
              "      <td>NaN</td>\n",
              "      <td>2020-02-26</td>\n",
              "      <td>9</td>\n",
              "      <td>210147125.0</td>\n",
              "      <td>1</td>\n",
              "      <td>1</td>\n",
              "      <td>0</td>\n",
              "      <td>0</td>\n",
              "      <td>NaN</td>\n",
              "      <td>NaN</td>\n",
              "      <td>NaN</td>\n",
              "    </tr>\n",
              "    <tr>\n",
              "      <th>2</th>\n",
              "      <td>Brasil</td>\n",
              "      <td>NaN</td>\n",
              "      <td>NaN</td>\n",
              "      <td>76</td>\n",
              "      <td>NaN</td>\n",
              "      <td>NaN</td>\n",
              "      <td>NaN</td>\n",
              "      <td>2020-02-27</td>\n",
              "      <td>9</td>\n",
              "      <td>210147125.0</td>\n",
              "      <td>1</td>\n",
              "      <td>0</td>\n",
              "      <td>0</td>\n",
              "      <td>0</td>\n",
              "      <td>NaN</td>\n",
              "      <td>NaN</td>\n",
              "      <td>NaN</td>\n",
              "    </tr>\n",
              "    <tr>\n",
              "      <th>3</th>\n",
              "      <td>Brasil</td>\n",
              "      <td>NaN</td>\n",
              "      <td>NaN</td>\n",
              "      <td>76</td>\n",
              "      <td>NaN</td>\n",
              "      <td>NaN</td>\n",
              "      <td>NaN</td>\n",
              "      <td>2020-02-28</td>\n",
              "      <td>9</td>\n",
              "      <td>210147125.0</td>\n",
              "      <td>1</td>\n",
              "      <td>0</td>\n",
              "      <td>0</td>\n",
              "      <td>0</td>\n",
              "      <td>NaN</td>\n",
              "      <td>NaN</td>\n",
              "      <td>NaN</td>\n",
              "    </tr>\n",
              "    <tr>\n",
              "      <th>4</th>\n",
              "      <td>Brasil</td>\n",
              "      <td>NaN</td>\n",
              "      <td>NaN</td>\n",
              "      <td>76</td>\n",
              "      <td>NaN</td>\n",
              "      <td>NaN</td>\n",
              "      <td>NaN</td>\n",
              "      <td>2020-02-29</td>\n",
              "      <td>9</td>\n",
              "      <td>210147125.0</td>\n",
              "      <td>2</td>\n",
              "      <td>1</td>\n",
              "      <td>0</td>\n",
              "      <td>0</td>\n",
              "      <td>NaN</td>\n",
              "      <td>NaN</td>\n",
              "      <td>NaN</td>\n",
              "    </tr>\n",
              "  </tbody>\n",
              "</table>\n",
              "</div>"
            ]
          },
          "metadata": {
            "tags": []
          },
          "execution_count": 8
        }
      ]
    },
    {
      "cell_type": "markdown",
      "metadata": {
        "id": "8wH4GvS4XIF2"
      },
      "source": [
        "# Verificação das datas"
      ]
    },
    {
      "cell_type": "code",
      "metadata": {
        "colab": {
          "base_uri": "https://localhost:8080/"
        },
        "id": "KWxYWgT4Uta2",
        "outputId": "1e820214-976d-4fa3-ac48-7fd879d7dd24"
      },
      "source": [
        "print(f'Date min in df_base_calouros {df_base_calouros[\"DATA_LOG\"].min()} and max {df_base_calouros[\"DATA_LOG\"].max()}')\n",
        "print(f'Date min in df_base_chamado {df_base_chamado[\"SYS_CREATED_ON\"].min()} and max {df_base_chamado[\"SYS_CREATED_ON\"].max()}')"
      ],
      "execution_count": 9,
      "outputs": [
        {
          "output_type": "stream",
          "text": [
            "Date min in df_base_calouros 2019-09-26 00:00:00 and max 2020-08-17 00:00:00\n",
            "Date min in df_base_chamado 2020-01-01 03:20:41 and max 2020-07-02 02:59:13\n"
          ],
          "name": "stdout"
        }
      ]
    },
    {
      "cell_type": "markdown",
      "metadata": {
        "id": "ENslMvoiXnbL"
      },
      "source": [
        "# Corte de dados por data\n",
        "\n",
        "Dado que de acordo com o Ministério da Saúde, a pandemia do Covid-19 teve início aqui no Brasil no dia 26/02/2020, somente utilizarei os dados após essa \n",
        "data, para verificar o impacto do Covid-19 na operação.\n",
        "\n",
        "Fonte: https://coronavirus.saude.gov.br/linha-do-tempo/"
      ]
    },
    {
      "cell_type": "code",
      "metadata": {
        "colab": {
          "base_uri": "https://localhost:8080/"
        },
        "id": "dBupdT-WY0Nu",
        "outputId": "9f11c5df-334d-4ab5-b8ae-0c628159dff1"
      },
      "source": [
        "df_base_calouros = df_base_calouros[df_base_calouros['DATA_LOG'] >= '2020-02-26']\n",
        "df_base_chamado = df_base_chamado[df_base_chamado['SYS_CREATED_ON'] >= '2020-02-26']\n",
        "\n",
        "print(f'df_base_chamado: {df_base_chamado.shape}')\n",
        "print(f'df_base_calouros: {df_base_calouros.shape}')"
      ],
      "execution_count": 44,
      "outputs": [
        {
          "output_type": "stream",
          "text": [
            "df_base_chamado: (651699, 6)\n",
            "df_base_calouros: (46859, 5)\n"
          ],
          "name": "stdout"
        }
      ]
    },
    {
      "cell_type": "markdown",
      "metadata": {
        "id": "h1dqZN0fZceh"
      },
      "source": [
        "# Verificação do tipo de aluno\n",
        "\n",
        "Como a análise deve abordar os calouros somente, é necessário verificar para que não haja inconsistências.\n"
      ]
    },
    {
      "cell_type": "code",
      "metadata": {
        "colab": {
          "base_uri": "https://localhost:8080/"
        },
        "id": "ujVrTJJ_ohKB",
        "outputId": "e1d10cb1-a275-4b8c-a000-f3de1679dc43"
      },
      "source": [
        "df_base_calouros['TIPO_ALUNO'].drop_duplicates()"
      ],
      "execution_count": 10,
      "outputs": [
        {
          "output_type": "execute_result",
          "data": {
            "text/plain": [
              "13    Calouro\n",
              "Name: TIPO_ALUNO, dtype: object"
            ]
          },
          "metadata": {
            "tags": []
          },
          "execution_count": 10
        }
      ]
    },
    {
      "cell_type": "markdown",
      "metadata": {
        "id": "Zvzjl79RaFEA"
      },
      "source": [
        "# Visualizando a situação do aluno\n",
        "\n",
        "Nesse trecho há a separação dos dados dos alunos cursando e matriculado, somente cursando, evadidos e transferidos, é printado esses valos para ter uma visão mais macro do número de aluno em cada situação.\n"
      ]
    },
    {
      "cell_type": "code",
      "metadata": {
        "colab": {
          "base_uri": "https://localhost:8080/"
        },
        "id": "4uzcJWTdouBt",
        "outputId": "ae2bb577-fc6a-4851-d2b7-a2ef5dadc347"
      },
      "source": [
        "# Filtro cursando e matriculado\n",
        "df_base_calouros_cursando_matriculado = df_base_calouros[df_base_calouros['SITUACAO_ALUNO'].isin([\"C\",\"F\",\"R\",\"S\",\"M\"])] \n",
        "# Filtro cursando\n",
        "df_base_calouros_cursando = df_base_calouros[df_base_calouros['SITUACAO_ALUNO'].isin([\"C\",\"F\",\"R\",\"S\"])]\n",
        "# Filtro evadidos\n",
        "df_base_calouros_evadidos = df_base_calouros[df_base_calouros['SITUACAO_ALUNO']==\"E\"]\n",
        "# Filtro transferido \n",
        "df_base_calouros_transferidos = df_base_calouros[df_base_calouros['SITUACAO_ALUNO']==\"T\"]\n",
        "\n",
        "# Nunique faz a contagem dos valores unicos\n",
        "calouros_cursando_matriculado = df_base_calouros_cursando_matriculado[\"CODIGO_ALUNO\"].nunique()\n",
        "calouros_cursando = df_base_calouros_cursando[\"CODIGO_ALUNO\"].nunique()\n",
        "calouros_evadidos = df_base_calouros_evadidos[\"CODIGO_ALUNO\"].nunique()\n",
        "calouros_transferidos = df_base_calouros_transferidos[\"CODIGO_ALUNO\"].nunique()\n",
        "\n",
        "# Outputs\n",
        "print(f'calouros_cursando_matriculado: {calouros_cursando_matriculado}')\n",
        "print(f'calouros_cursando: {calouros_cursando}')\n",
        "print(f'calouros_evadidos: {calouros_evadidos}')\n",
        "print(f'calouros_transferidos: {calouros_transferidos}')"
      ],
      "execution_count": 46,
      "outputs": [
        {
          "output_type": "stream",
          "text": [
            "calouros_cursando_matriculado: 7705\n",
            "calouros_cursando: 7705\n",
            "calouros_evadidos: 28421\n",
            "calouros_transferidos: 2769\n"
          ],
          "name": "stdout"
        }
      ]
    },
    {
      "cell_type": "markdown",
      "metadata": {
        "id": "H5bNUql7baXT"
      },
      "source": [
        "# Verificação de evasão dos calouros\n",
        "\n",
        "Efetuei a filtragem dos alunos que estavam cursando e mudaram sua situação para evadido, utilizei tanto os alunos que tinha a situação matriculado e cursando, quanto os somente cursando, os resultados foram superiores aos 5% traçado.\n"
      ]
    },
    {
      "cell_type": "code",
      "metadata": {
        "id": "jINkyLhLsVTX",
        "colab": {
          "base_uri": "https://localhost:8080/"
        },
        "outputId": "45c5281e-8f61-4e38-e893-8288a8b40d2b"
      },
      "source": [
        "# Filtragem dos aluno cursando matriculado\n",
        "df_base_calouros_diff_cursando_matriculado_evadidos = df_base_calouros_cursando_matriculado[df_base_calouros_cursando_matriculado['CODIGO_ALUNO'].isin(df_base_calouros_evadidos['CODIGO_ALUNO'])]\n",
        "# Contagem única\n",
        "diff_cursando_matriculado_evadidos = df_base_calouros_diff_cursando_matriculado_evadidos[\"CODIGO_ALUNO\"].nunique()\n",
        "\n",
        "# Percentual\n",
        "percent_calouros_cursando_matriculado_evadidos = diff_cursando_matriculado_evadidos/calouros_cursando_matriculado\n",
        "print(f'percent_calouros_cursando_matriculado_evadidos: {round(100*percent_calouros_cursando_matriculado_evadidos,2)}%')"
      ],
      "execution_count": 51,
      "outputs": [
        {
          "output_type": "stream",
          "text": [
            "percent_calouros_cursando_matriculado_evadidos: 36.24%\n"
          ],
          "name": "stdout"
        }
      ]
    },
    {
      "cell_type": "code",
      "metadata": {
        "id": "8eS7DZSIuQ6v",
        "colab": {
          "base_uri": "https://localhost:8080/"
        },
        "outputId": "47abcf0d-e85d-4657-9539-75344632c9c9"
      },
      "source": [
        "# Filtragem dos aluno cursando \n",
        "df_base_calouros_diff_cursando_evadidos = df_base_calouros_cursando[df_base_calouros_cursando['CODIGO_ALUNO'].isin(df_base_calouros_evadidos['CODIGO_ALUNO'])]\n",
        "# Contagem única\n",
        "diff_cursando_evadidos = df_base_calouros_diff_cursando_evadidos[\"CODIGO_ALUNO\"].nunique()\n",
        "\n",
        "# Percentual\n",
        "percent_calouros_cursando_evadidos = diff_cursando_evadidos/calouros_cursando\n",
        "print(f'percent_calouros_cursando_evadidos: {round(100*percent_calouros_cursando_evadidos,2)}%')"
      ],
      "execution_count": 53,
      "outputs": [
        {
          "output_type": "stream",
          "text": [
            "percent_calouros_cursando_evadidos: 36.24%\n"
          ],
          "name": "stdout"
        }
      ]
    },
    {
      "cell_type": "markdown",
      "metadata": {
        "id": "fuItGEIPcgF8"
      },
      "source": [
        "# Verificação de transferência dos calouros\n",
        "\n",
        "Efetuei, como no caso anterior, a filtragem dos alunos que estavam cursando e mudaram sua situação para evadido, utilizei tanto os alunos que tinha a situação matriculado e cursando, quanto os somente cursando, os resultados foram superiores ao 1% traçado.\n"
      ]
    },
    {
      "cell_type": "code",
      "metadata": {
        "id": "ZpQ7HFkXuqgu",
        "colab": {
          "base_uri": "https://localhost:8080/"
        },
        "outputId": "010d7ebb-1eaa-4ca0-cf2b-5074bcb5270c"
      },
      "source": [
        "# Filtragem dos aluno cursando matriculado\n",
        "df_base_calouros_diff_cursando_matriculado_transferidos = df_base_calouros_cursando_matriculado[df_base_calouros_cursando_matriculado['CODIGO_ALUNO'].isin(df_base_calouros_transferidos['CODIGO_ALUNO'])]\n",
        "# Contagem única\n",
        "diff_cursando_matriculado_transferidos = df_base_calouros_diff_cursando_matriculado_transferidos[\"CODIGO_ALUNO\"].nunique()\n",
        "\n",
        "# Percentual\n",
        "percent_calouros_cursando_matriculado_transferidos = diff_cursando_matriculado_transferidos/calouros_cursando_matriculado\n",
        "print(f'percent_calouros_cursando_matriculado_transferidos: {round(100*percent_calouros_cursando_matriculado_transferidos,2)}%')"
      ],
      "execution_count": 55,
      "outputs": [
        {
          "output_type": "stream",
          "text": [
            "percent_calouros_cursando_matriculado_transferidos: 5.22%\n"
          ],
          "name": "stdout"
        }
      ]
    },
    {
      "cell_type": "code",
      "metadata": {
        "id": "mNtxJ1WrvDCh",
        "colab": {
          "base_uri": "https://localhost:8080/"
        },
        "outputId": "ae21bee1-f829-4ebc-acc4-2eee102964d3"
      },
      "source": [
        "# Filtragem dos aluno cursando \n",
        "df_base_calouros_diff_cursando_transferidos = df_base_calouros_cursando[df_base_calouros_cursando['CODIGO_ALUNO'].isin(df_base_calouros_transferidos['CODIGO_ALUNO'])]\n",
        "# Contagem única\n",
        "diff_cursando_transferidos = df_base_calouros_diff_cursando_transferidos[\"CODIGO_ALUNO\"].nunique()\n",
        "\n",
        "# Percentual\n",
        "percent_calouros_cursando_transferidos = diff_cursando_transferidos/calouros_cursando\n",
        "print(f'percent_calouros_cursando_transferidos: {round(100*percent_calouros_cursando_transferidos,2)}%')"
      ],
      "execution_count": 54,
      "outputs": [
        {
          "output_type": "stream",
          "text": [
            "percent_calouros_cursando_transferidos: 5.22%\n"
          ],
          "name": "stdout"
        }
      ]
    },
    {
      "cell_type": "markdown",
      "metadata": {
        "id": "msbEK9XPdnMz"
      },
      "source": [
        "# Junção da base de calouoros com a tabela auxiliar\n",
        "\n",
        "Essa junção é feita para levantar-se duas hipóteses:\n",
        "\n",
        "- Calouros dos cursos de humanas tiveram  uma evasão maior, dado que esses cargos na indústria costumam ter um salário inferior no geral?\n",
        "- Quanto maior o ticket médio, maior a evasão?\n",
        "\n",
        "Respostas:\n",
        "\n",
        "É possível notar que não, os calouros evadidos seguem de forma muito semelhante o comportamento dos calouros cursando, então não há a relação entre  maior evasão pelo valor do ticket."
      ]
    },
    {
      "cell_type": "code",
      "metadata": {
        "colab": {
          "base_uri": "https://localhost:8080/",
          "height": 204
        },
        "id": "dPKFJ408Uta3",
        "outputId": "5125eca1-2341-4ffc-c2d2-0cbe9e013790"
      },
      "source": [
        "df_base_calouros_with_curso = pd.merge(df_base_calouros,df_aux_curso,how='left',on='CODIGO_CURSO')\n",
        "df_base_calouros_with_curso.head()"
      ],
      "execution_count": 16,
      "outputs": [
        {
          "output_type": "execute_result",
          "data": {
            "text/plain": [
              "   CODIGO_ALUNO  CODIGO_CURSO   DATA_LOG SITUACAO_ALUNO TIPO_ALUNO  \\\n",
              "0      11185893           543 2020-06-25              E    Calouro   \n",
              "1      11185893           543 2020-01-04              C    Calouro   \n",
              "2      11185893           543 2020-01-03              P    Calouro   \n",
              "3       3941358          2802 2020-02-20              C    Calouro   \n",
              "4       3941358          2802 2020-01-22              P    Calouro   \n",
              "\n",
              "   Ticket médio mensal Grande área do curso  \n",
              "0                  267              Humanas  \n",
              "1                  267              Humanas  \n",
              "2                  267              Humanas  \n",
              "3                  125              Humanas  \n",
              "4                  125              Humanas  "
            ],
            "text/html": [
              "<div>\n",
              "<style scoped>\n",
              "    .dataframe tbody tr th:only-of-type {\n",
              "        vertical-align: middle;\n",
              "    }\n",
              "\n",
              "    .dataframe tbody tr th {\n",
              "        vertical-align: top;\n",
              "    }\n",
              "\n",
              "    .dataframe thead th {\n",
              "        text-align: right;\n",
              "    }\n",
              "</style>\n",
              "<table border=\"1\" class=\"dataframe\">\n",
              "  <thead>\n",
              "    <tr style=\"text-align: right;\">\n",
              "      <th></th>\n",
              "      <th>CODIGO_ALUNO</th>\n",
              "      <th>CODIGO_CURSO</th>\n",
              "      <th>DATA_LOG</th>\n",
              "      <th>SITUACAO_ALUNO</th>\n",
              "      <th>TIPO_ALUNO</th>\n",
              "      <th>Ticket médio mensal</th>\n",
              "      <th>Grande área do curso</th>\n",
              "    </tr>\n",
              "  </thead>\n",
              "  <tbody>\n",
              "    <tr>\n",
              "      <th>0</th>\n",
              "      <td>11185893</td>\n",
              "      <td>543</td>\n",
              "      <td>2020-06-25</td>\n",
              "      <td>E</td>\n",
              "      <td>Calouro</td>\n",
              "      <td>267</td>\n",
              "      <td>Humanas</td>\n",
              "    </tr>\n",
              "    <tr>\n",
              "      <th>1</th>\n",
              "      <td>11185893</td>\n",
              "      <td>543</td>\n",
              "      <td>2020-01-04</td>\n",
              "      <td>C</td>\n",
              "      <td>Calouro</td>\n",
              "      <td>267</td>\n",
              "      <td>Humanas</td>\n",
              "    </tr>\n",
              "    <tr>\n",
              "      <th>2</th>\n",
              "      <td>11185893</td>\n",
              "      <td>543</td>\n",
              "      <td>2020-01-03</td>\n",
              "      <td>P</td>\n",
              "      <td>Calouro</td>\n",
              "      <td>267</td>\n",
              "      <td>Humanas</td>\n",
              "    </tr>\n",
              "    <tr>\n",
              "      <th>3</th>\n",
              "      <td>3941358</td>\n",
              "      <td>2802</td>\n",
              "      <td>2020-02-20</td>\n",
              "      <td>C</td>\n",
              "      <td>Calouro</td>\n",
              "      <td>125</td>\n",
              "      <td>Humanas</td>\n",
              "    </tr>\n",
              "    <tr>\n",
              "      <th>4</th>\n",
              "      <td>3941358</td>\n",
              "      <td>2802</td>\n",
              "      <td>2020-01-22</td>\n",
              "      <td>P</td>\n",
              "      <td>Calouro</td>\n",
              "      <td>125</td>\n",
              "      <td>Humanas</td>\n",
              "    </tr>\n",
              "  </tbody>\n",
              "</table>\n",
              "</div>"
            ]
          },
          "metadata": {
            "tags": []
          },
          "execution_count": 16
        }
      ]
    },
    {
      "cell_type": "markdown",
      "metadata": {
        "id": "2S6L-BW_ekwR"
      },
      "source": [
        "## Ticket médio geral"
      ]
    },
    {
      "cell_type": "code",
      "metadata": {
        "colab": {
          "base_uri": "https://localhost:8080/",
          "height": 533
        },
        "id": "ElnH23o3Uta3",
        "outputId": "89cdddd1-bafa-4b8c-fb60-9d81294fd31d"
      },
      "source": [
        "df_base_calouros_with_curso.hist(column='Ticket médio mensal',bins=50,figsize=(15,8))"
      ],
      "execution_count": 56,
      "outputs": [
        {
          "output_type": "execute_result",
          "data": {
            "text/plain": [
              "array([[<AxesSubplot:title={'center':'Ticket médio mensal'}>]],\n",
              "      dtype=object)"
            ]
          },
          "metadata": {
            "tags": []
          },
          "execution_count": 56
        },
        {
          "output_type": "display_data",
          "data": {
            "text/plain": [
              "<Figure size 1080x576 with 1 Axes>"
            ],
            "image/png": "[encoded data removed]"
          },
          "metadata": {
            "tags": [],
            "needs_background": "light"
          }
        }
      ]
    },
    {
      "cell_type": "markdown",
      "metadata": {
        "id": "YFPGQ8hbfAJg"
      },
      "source": [
        "## Ticket médio para evasão"
      ]
    },
    {
      "cell_type": "code",
      "metadata": {
        "colab": {
          "base_uri": "https://localhost:8080/",
          "height": 533
        },
        "id": "IkZNygl7Uta3",
        "outputId": "c8354d91-e9ba-4cac-9432-6310d5acca63"
      },
      "source": [
        "df_base_calouros_with_curso[df_base_calouros_with_curso['SITUACAO_ALUNO'].isin([\"E\"])].hist(column='Ticket médio mensal',bins=50,figsize=(15,8))"
      ],
      "execution_count": 57,
      "outputs": [
        {
          "output_type": "execute_result",
          "data": {
            "text/plain": [
              "array([[<AxesSubplot:title={'center':'Ticket médio mensal'}>]],\n",
              "      dtype=object)"
            ]
          },
          "metadata": {
            "tags": []
          },
          "execution_count": 57
        },
        {
          "output_type": "display_data",
          "data": {
            "text/plain": [
              "<Figure size 1080x576 with 1 Axes>"
            ],
            "image/png": "[encoded data removed]"
          },
          "metadata": {
            "tags": [],
            "needs_background": "light"
          }
        }
      ]
    },
    {
      "cell_type": "markdown",
      "metadata": {
        "id": "awc6bJU6fLwU"
      },
      "source": [
        "## Ticket médio para cursando e/ou matriculado"
      ]
    },
    {
      "cell_type": "code",
      "metadata": {
        "colab": {
          "base_uri": "https://localhost:8080/",
          "height": 533
        },
        "id": "NkQZpkZ-Uta3",
        "outputId": "702007bc-9c2f-4359-c266-2262d3d14c2d"
      },
      "source": [
        "df_base_calouros_with_curso[df_base_calouros_with_curso['SITUACAO_ALUNO'].isin([\"C\",\"F\",\"R\",\"S\",\"M\"])].hist(column='Ticket médio mensal',bins=50,figsize=(15,8))"
      ],
      "execution_count": 58,
      "outputs": [
        {
          "output_type": "execute_result",
          "data": {
            "text/plain": [
              "array([[<AxesSubplot:title={'center':'Ticket médio mensal'}>]],\n",
              "      dtype=object)"
            ]
          },
          "metadata": {
            "tags": []
          },
          "execution_count": 58
        },
        {
          "output_type": "display_data",
          "data": {
            "text/plain": [
              "<Figure size 1080x576 with 1 Axes>"
            ],
            "image/png": "[encoded data removed]"
          },
          "metadata": {
            "tags": [],
            "needs_background": "light"
          }
        }
      ]
    },
    {
      "cell_type": "markdown",
      "metadata": {
        "id": "5ZbCL5ZlgJlk"
      },
      "source": [
        "## Total de alunos por área"
      ]
    },
    {
      "cell_type": "code",
      "metadata": {
        "colab": {
          "base_uri": "https://localhost:8080/",
          "height": 142
        },
        "id": "Ay5YDJU5Uta3",
        "outputId": "dd6b9334-4511-4e8b-d793-ec54a2e71bb8"
      },
      "source": [
        "df_base_calouros_with_curso.groupby(['Grande área do curso'],as_index=False)['CODIGO_ALUNO'].nunique()"
      ],
      "execution_count": 59,
      "outputs": [
        {
          "output_type": "execute_result",
          "data": {
            "text/plain": [
              "  Grande área do curso  CODIGO_ALUNO\n",
              "0           Biológicas         22096\n",
              "1               Exatas         37348\n",
              "2              Humanas         44289"
            ],
            "text/html": [
              "<div>\n",
              "<style scoped>\n",
              "    .dataframe tbody tr th:only-of-type {\n",
              "        vertical-align: middle;\n",
              "    }\n",
              "\n",
              "    .dataframe tbody tr th {\n",
              "        vertical-align: top;\n",
              "    }\n",
              "\n",
              "    .dataframe thead th {\n",
              "        text-align: right;\n",
              "    }\n",
              "</style>\n",
              "<table border=\"1\" class=\"dataframe\">\n",
              "  <thead>\n",
              "    <tr style=\"text-align: right;\">\n",
              "      <th></th>\n",
              "      <th>Grande área do curso</th>\n",
              "      <th>CODIGO_ALUNO</th>\n",
              "    </tr>\n",
              "  </thead>\n",
              "  <tbody>\n",
              "    <tr>\n",
              "      <th>0</th>\n",
              "      <td>Biológicas</td>\n",
              "      <td>22096</td>\n",
              "    </tr>\n",
              "    <tr>\n",
              "      <th>1</th>\n",
              "      <td>Exatas</td>\n",
              "      <td>37348</td>\n",
              "    </tr>\n",
              "    <tr>\n",
              "      <th>2</th>\n",
              "      <td>Humanas</td>\n",
              "      <td>44289</td>\n",
              "    </tr>\n",
              "  </tbody>\n",
              "</table>\n",
              "</div>"
            ]
          },
          "metadata": {
            "tags": []
          },
          "execution_count": 59
        }
      ]
    },
    {
      "cell_type": "markdown",
      "metadata": {
        "id": "5K9UBMfdgeID"
      },
      "source": [
        "## Total de alunos cursando e/ou matriculados por área"
      ]
    },
    {
      "cell_type": "code",
      "metadata": {
        "colab": {
          "base_uri": "https://localhost:8080/",
          "height": 142
        },
        "id": "2ToP20ZRUta3",
        "outputId": "d8a2e7ef-0281-4a90-c9b0-b9b9549906ab"
      },
      "source": [
        "# Filtro cursando\n",
        "df_base_calouros_with_curso_cursando = df_base_calouros_with_curso[df_base_calouros_with_curso['SITUACAO_ALUNO'].isin([\"C\",\"F\",\"R\",\"S\",\"M\"])]\n",
        "# Contagem de alunos\n",
        "df_base_calouros_with_curso_cursando_total = df_base_calouros_with_curso_cursando.groupby(['Grande área do curso'],as_index=False)['CODIGO_ALUNO'].nunique().rename(columns={'CODIGO_ALUNO':'CALOUROS_CURSANDO'})\n",
        "df_base_calouros_with_curso_cursando_total"
      ],
      "execution_count": 63,
      "outputs": [
        {
          "output_type": "execute_result",
          "data": {
            "text/plain": [
              "  Grande área do curso  CALOUROS_CURSANDO\n",
              "0           Biológicas              20863\n",
              "1               Exatas              35589\n",
              "2              Humanas              42083"
            ],
            "text/html": [
              "<div>\n",
              "<style scoped>\n",
              "    .dataframe tbody tr th:only-of-type {\n",
              "        vertical-align: middle;\n",
              "    }\n",
              "\n",
              "    .dataframe tbody tr th {\n",
              "        vertical-align: top;\n",
              "    }\n",
              "\n",
              "    .dataframe thead th {\n",
              "        text-align: right;\n",
              "    }\n",
              "</style>\n",
              "<table border=\"1\" class=\"dataframe\">\n",
              "  <thead>\n",
              "    <tr style=\"text-align: right;\">\n",
              "      <th></th>\n",
              "      <th>Grande área do curso</th>\n",
              "      <th>CALOUROS_CURSANDO</th>\n",
              "    </tr>\n",
              "  </thead>\n",
              "  <tbody>\n",
              "    <tr>\n",
              "      <th>0</th>\n",
              "      <td>Biológicas</td>\n",
              "      <td>20863</td>\n",
              "    </tr>\n",
              "    <tr>\n",
              "      <th>1</th>\n",
              "      <td>Exatas</td>\n",
              "      <td>35589</td>\n",
              "    </tr>\n",
              "    <tr>\n",
              "      <th>2</th>\n",
              "      <td>Humanas</td>\n",
              "      <td>42083</td>\n",
              "    </tr>\n",
              "  </tbody>\n",
              "</table>\n",
              "</div>"
            ]
          },
          "metadata": {
            "tags": []
          },
          "execution_count": 63
        }
      ]
    },
    {
      "cell_type": "markdown",
      "metadata": {
        "id": "rXsc9ni2gs7q"
      },
      "source": [
        "## Total de alunos evadidos por área\n"
      ]
    },
    {
      "cell_type": "code",
      "metadata": {
        "colab": {
          "base_uri": "https://localhost:8080/",
          "height": 142
        },
        "id": "J7ZODf2IUta3",
        "outputId": "319bdd96-c62f-4411-9649-c2aa58a42116"
      },
      "source": [
        "# Filtro evadidos\n",
        "df_base_calouros_with_curso_evadidos = df_base_calouros_with_curso[df_base_calouros_with_curso['SITUACAO_ALUNO']==\"E\"]\n",
        "\n",
        "# Fitro dos alunos cursando\n",
        "calouros_cursando = df_base_calouros_with_curso_cursando['CODIGO_ALUNO'].drop_duplicates()\n",
        "df_base_calouros_with_curso_evadidos_cursando = df_base_calouros_with_curso_evadidos[df_base_calouros_with_curso_evadidos['CODIGO_ALUNO'].isin(calouros_cursando)]\n",
        "\n",
        "# Contagem dos alunos evadidos\n",
        "df_base_calouros_with_curso_evadidos_cursando_total = df_base_calouros_with_curso_evadidos_cursando.groupby(['Grande área do curso'],as_index=False)['CODIGO_ALUNO'].nunique().rename(columns={'CODIGO_ALUNO':'CALOUROS_EVADIDOS'})\n",
        "df_base_calouros_with_curso_evadidos_cursando_total"
      ],
      "execution_count": 90,
      "outputs": [
        {
          "output_type": "execute_result",
          "data": {
            "text/plain": [
              "  Grande área do curso  CALOUROS_EVADIDOS\n",
              "0           Biológicas               6983\n",
              "1               Exatas              12808\n",
              "2              Humanas              13231"
            ],
            "text/html": [
              "<div>\n",
              "<style scoped>\n",
              "    .dataframe tbody tr th:only-of-type {\n",
              "        vertical-align: middle;\n",
              "    }\n",
              "\n",
              "    .dataframe tbody tr th {\n",
              "        vertical-align: top;\n",
              "    }\n",
              "\n",
              "    .dataframe thead th {\n",
              "        text-align: right;\n",
              "    }\n",
              "</style>\n",
              "<table border=\"1\" class=\"dataframe\">\n",
              "  <thead>\n",
              "    <tr style=\"text-align: right;\">\n",
              "      <th></th>\n",
              "      <th>Grande área do curso</th>\n",
              "      <th>CALOUROS_EVADIDOS</th>\n",
              "    </tr>\n",
              "  </thead>\n",
              "  <tbody>\n",
              "    <tr>\n",
              "      <th>0</th>\n",
              "      <td>Biológicas</td>\n",
              "      <td>6983</td>\n",
              "    </tr>\n",
              "    <tr>\n",
              "      <th>1</th>\n",
              "      <td>Exatas</td>\n",
              "      <td>12808</td>\n",
              "    </tr>\n",
              "    <tr>\n",
              "      <th>2</th>\n",
              "      <td>Humanas</td>\n",
              "      <td>13231</td>\n",
              "    </tr>\n",
              "  </tbody>\n",
              "</table>\n",
              "</div>"
            ]
          },
          "metadata": {
            "tags": []
          },
          "execution_count": 90
        }
      ]
    },
    {
      "cell_type": "markdown",
      "metadata": {
        "id": "OEE6KIaYjZ_R"
      },
      "source": [
        "## Total de alunos transferidos por área\n"
      ]
    },
    {
      "cell_type": "code",
      "metadata": {
        "colab": {
          "base_uri": "https://localhost:8080/",
          "height": 142
        },
        "id": "1NNwAm__hq7c",
        "outputId": "b0895232-51d2-462a-f764-3368dde8e8f3"
      },
      "source": [
        "# Filtro transferidos\n",
        "df_base_calouros_with_curso_transferidos = df_base_calouros_with_curso[df_base_calouros_with_curso['SITUACAO_ALUNO'].isin([\"T\"])]\n",
        "\n",
        "# Fitro dos alunos cursando\n",
        "df_base_calouros_with_curso_transferidos_cursando = df_base_calouros_with_curso_transferidos[df_base_calouros_with_curso_transferidos['CODIGO_ALUNO'].isin(calouros_cursando)]\n",
        "\n",
        "# Contagem dos alunos transferidos\n",
        "df_base_calouros_with_curso_transferidos_cursando_total = df_base_calouros_with_curso_transferidos_cursando.groupby(['Grande área do curso'],as_index=False)['CODIGO_ALUNO'].nunique().rename(columns={'CODIGO_ALUNO':'CALOUROS_TRANSFERIDOS'})\n",
        "df_base_calouros_with_curso_transferidos_cursando_total"
      ],
      "execution_count": 91,
      "outputs": [
        {
          "output_type": "execute_result",
          "data": {
            "text/plain": [
              "  Grande área do curso  CALOUROS_TRANSFERIDOS\n",
              "0           Biológicas                    520\n",
              "1               Exatas                   1006\n",
              "2              Humanas                   1343"
            ],
            "text/html": [
              "<div>\n",
              "<style scoped>\n",
              "    .dataframe tbody tr th:only-of-type {\n",
              "        vertical-align: middle;\n",
              "    }\n",
              "\n",
              "    .dataframe tbody tr th {\n",
              "        vertical-align: top;\n",
              "    }\n",
              "\n",
              "    .dataframe thead th {\n",
              "        text-align: right;\n",
              "    }\n",
              "</style>\n",
              "<table border=\"1\" class=\"dataframe\">\n",
              "  <thead>\n",
              "    <tr style=\"text-align: right;\">\n",
              "      <th></th>\n",
              "      <th>Grande área do curso</th>\n",
              "      <th>CALOUROS_TRANSFERIDOS</th>\n",
              "    </tr>\n",
              "  </thead>\n",
              "  <tbody>\n",
              "    <tr>\n",
              "      <th>0</th>\n",
              "      <td>Biológicas</td>\n",
              "      <td>520</td>\n",
              "    </tr>\n",
              "    <tr>\n",
              "      <th>1</th>\n",
              "      <td>Exatas</td>\n",
              "      <td>1006</td>\n",
              "    </tr>\n",
              "    <tr>\n",
              "      <th>2</th>\n",
              "      <td>Humanas</td>\n",
              "      <td>1343</td>\n",
              "    </tr>\n",
              "  </tbody>\n",
              "</table>\n",
              "</div>"
            ]
          },
          "metadata": {
            "tags": []
          },
          "execution_count": 91
        }
      ]
    },
    {
      "cell_type": "markdown",
      "metadata": {
        "id": "LAMsxH7qg1Zz"
      },
      "source": [
        "## Proporção\n",
        "\n",
        "Respondendo a questão levantada no inicio desse tópico, que alunos das áreas humanas tiveram uma evasão maior que o de outras áreas, a hipótese se mostrou falha, sento a evasão maior nas áreas exatas, cerca de 5% acima das áreas humanas. Mas também foi o curso que teve proporcionalmente uma maior transferência."
      ]
    },
    {
      "cell_type": "code",
      "metadata": {
        "colab": {
          "base_uri": "https://localhost:8080/",
          "height": 142
        },
        "id": "N1f57ZmdUta3",
        "outputId": "44cae66e-eae9-478b-c984-4b9e728e392c"
      },
      "source": [
        "# Junção dos dados\n",
        "df_curso_resume = pd.merge(\n",
        "    df_base_calouros_with_curso_cursando_total,\n",
        "    df_base_calouros_with_curso_evadidos_cursando_total,\n",
        "    how='left',\n",
        "    on='Grande área do curso'\n",
        ").merge(    \n",
        "    df_base_calouros_with_curso_transferidos_cursando_total,\n",
        "    how='left',\n",
        "    on='Grande área do curso'\n",
        "    )\n",
        "\n",
        "#  Proporção\n",
        "df_curso_resume['percent_evadidos'] = df_curso_resume['CALOUROS_EVADIDOS']/df_curso_resume['CALOUROS_CURSANDO']\n",
        "df_curso_resume['percent_transferidos'] = df_curso_resume['CALOUROS_TRANSFERIDOS']/df_curso_resume['CALOUROS_CURSANDO']\n",
        "df_curso_resume"
      ],
      "execution_count": 93,
      "outputs": [
        {
          "output_type": "execute_result",
          "data": {
            "text/plain": [
              "  Grande área do curso  CALOUROS_CURSANDO  CALOUROS_EVADIDOS  \\\n",
              "0           Biológicas              20863               6983   \n",
              "1               Exatas              35589              12808   \n",
              "2              Humanas              42083              13231   \n",
              "\n",
              "   CALOUROS_TRANSFERIDOS  percent_evadidos  percent_transferidos  \n",
              "0                    520          0.334707              0.024925  \n",
              "1                   1006          0.359886              0.028267  \n",
              "2                   1343          0.314402              0.031913  "
            ],
            "text/html": [
              "<div>\n",
              "<style scoped>\n",
              "    .dataframe tbody tr th:only-of-type {\n",
              "        vertical-align: middle;\n",
              "    }\n",
              "\n",
              "    .dataframe tbody tr th {\n",
              "        vertical-align: top;\n",
              "    }\n",
              "\n",
              "    .dataframe thead th {\n",
              "        text-align: right;\n",
              "    }\n",
              "</style>\n",
              "<table border=\"1\" class=\"dataframe\">\n",
              "  <thead>\n",
              "    <tr style=\"text-align: right;\">\n",
              "      <th></th>\n",
              "      <th>Grande área do curso</th>\n",
              "      <th>CALOUROS_CURSANDO</th>\n",
              "      <th>CALOUROS_EVADIDOS</th>\n",
              "      <th>CALOUROS_TRANSFERIDOS</th>\n",
              "      <th>percent_evadidos</th>\n",
              "      <th>percent_transferidos</th>\n",
              "    </tr>\n",
              "  </thead>\n",
              "  <tbody>\n",
              "    <tr>\n",
              "      <th>0</th>\n",
              "      <td>Biológicas</td>\n",
              "      <td>20863</td>\n",
              "      <td>6983</td>\n",
              "      <td>520</td>\n",
              "      <td>0.334707</td>\n",
              "      <td>0.024925</td>\n",
              "    </tr>\n",
              "    <tr>\n",
              "      <th>1</th>\n",
              "      <td>Exatas</td>\n",
              "      <td>35589</td>\n",
              "      <td>12808</td>\n",
              "      <td>1006</td>\n",
              "      <td>0.359886</td>\n",
              "      <td>0.028267</td>\n",
              "    </tr>\n",
              "    <tr>\n",
              "      <th>2</th>\n",
              "      <td>Humanas</td>\n",
              "      <td>42083</td>\n",
              "      <td>13231</td>\n",
              "      <td>1343</td>\n",
              "      <td>0.314402</td>\n",
              "      <td>0.031913</td>\n",
              "    </tr>\n",
              "  </tbody>\n",
              "</table>\n",
              "</div>"
            ]
          },
          "metadata": {
            "tags": []
          },
          "execution_count": 93
        }
      ]
    },
    {
      "cell_type": "markdown",
      "metadata": {
        "id": "vkOa_2sSkloO"
      },
      "source": [
        "# Análise exploratória dos chamados"
      ]
    },
    {
      "cell_type": "code",
      "metadata": {
        "colab": {
          "base_uri": "https://localhost:8080/",
          "height": 204
        },
        "id": "Yt-SYINfUta3",
        "outputId": "dacedb05-d4c1-4888-e00c-82034d8dcc55"
      },
      "source": [
        "# Apenas para verificar o tipo dos dados\n",
        "# df_base_chamado.info() \n",
        "# df_base_calouros_with_curso.info()\n",
        "\n",
        "# Mudando tipo de dado integer para string, pois entrada do numero do aluno foi lida de maneira diferente  \n",
        "df_base_calouros_with_curso['CODIGO_ALUNO_STR'] = df_base_calouros_with_curso['CODIGO_ALUNO'].astype(str)\n",
        "\n",
        "# Junção dos calouros com a base de chamados\n",
        "df_base_calouros_with_curso_and_chamado = pd.merge(\n",
        "    df_base_calouros_with_curso,\n",
        "    df_base_chamado.groupby(['RA_ALUNO'],as_index=False)['SHORT_DESCRIPTION'].count().rename(columns={'SHORT_DESCRIPTION':'SHORT_DESCRIPTION_COUNT'}),\n",
        "    how='left',\n",
        "    right_on='RA_ALUNO',\n",
        "    left_on='CODIGO_ALUNO_STR'\n",
        ")\n",
        "\n",
        "# Substituição de vazio para 0, pois se não existe chamado feito pelo aluno, então o numero de chamados é 0\n",
        "df_base_calouros_with_curso_and_chamado['SHORT_DESCRIPTION_COUNT'].fillna(0,inplace=True)\n",
        "df_base_calouros_with_curso_and_chamado.head()"
      ],
      "execution_count": 71,
      "outputs": [
        {
          "output_type": "execute_result",
          "data": {
            "text/plain": [
              "   CODIGO_ALUNO  CODIGO_CURSO   DATA_LOG SITUACAO_ALUNO TIPO_ALUNO  \\\n",
              "0      11185893           543 2020-06-25              E    Calouro   \n",
              "1      11185893           543 2020-01-04              C    Calouro   \n",
              "2      11185893           543 2020-01-03              P    Calouro   \n",
              "3       3941358          2802 2020-02-20              C    Calouro   \n",
              "4       3941358          2802 2020-01-22              P    Calouro   \n",
              "\n",
              "   Ticket médio mensal Grande área do curso CODIGO_ALUNO_STR RA_ALUNO  \\\n",
              "0                  267              Humanas         11185893      NaN   \n",
              "1                  267              Humanas         11185893      NaN   \n",
              "2                  267              Humanas         11185893      NaN   \n",
              "3                  125              Humanas          3941358      NaN   \n",
              "4                  125              Humanas          3941358      NaN   \n",
              "\n",
              "   SHORT_DESCRIPTION_COUNT  \n",
              "0                      0.0  \n",
              "1                      0.0  \n",
              "2                      0.0  \n",
              "3                      0.0  \n",
              "4                      0.0  "
            ],
            "text/html": [
              "<div>\n",
              "<style scoped>\n",
              "    .dataframe tbody tr th:only-of-type {\n",
              "        vertical-align: middle;\n",
              "    }\n",
              "\n",
              "    .dataframe tbody tr th {\n",
              "        vertical-align: top;\n",
              "    }\n",
              "\n",
              "    .dataframe thead th {\n",
              "        text-align: right;\n",
              "    }\n",
              "</style>\n",
              "<table border=\"1\" class=\"dataframe\">\n",
              "  <thead>\n",
              "    <tr style=\"text-align: right;\">\n",
              "      <th></th>\n",
              "      <th>CODIGO_ALUNO</th>\n",
              "      <th>CODIGO_CURSO</th>\n",
              "      <th>DATA_LOG</th>\n",
              "      <th>SITUACAO_ALUNO</th>\n",
              "      <th>TIPO_ALUNO</th>\n",
              "      <th>Ticket médio mensal</th>\n",
              "      <th>Grande área do curso</th>\n",
              "      <th>CODIGO_ALUNO_STR</th>\n",
              "      <th>RA_ALUNO</th>\n",
              "      <th>SHORT_DESCRIPTION_COUNT</th>\n",
              "    </tr>\n",
              "  </thead>\n",
              "  <tbody>\n",
              "    <tr>\n",
              "      <th>0</th>\n",
              "      <td>11185893</td>\n",
              "      <td>543</td>\n",
              "      <td>2020-06-25</td>\n",
              "      <td>E</td>\n",
              "      <td>Calouro</td>\n",
              "      <td>267</td>\n",
              "      <td>Humanas</td>\n",
              "      <td>11185893</td>\n",
              "      <td>NaN</td>\n",
              "      <td>0.0</td>\n",
              "    </tr>\n",
              "    <tr>\n",
              "      <th>1</th>\n",
              "      <td>11185893</td>\n",
              "      <td>543</td>\n",
              "      <td>2020-01-04</td>\n",
              "      <td>C</td>\n",
              "      <td>Calouro</td>\n",
              "      <td>267</td>\n",
              "      <td>Humanas</td>\n",
              "      <td>11185893</td>\n",
              "      <td>NaN</td>\n",
              "      <td>0.0</td>\n",
              "    </tr>\n",
              "    <tr>\n",
              "      <th>2</th>\n",
              "      <td>11185893</td>\n",
              "      <td>543</td>\n",
              "      <td>2020-01-03</td>\n",
              "      <td>P</td>\n",
              "      <td>Calouro</td>\n",
              "      <td>267</td>\n",
              "      <td>Humanas</td>\n",
              "      <td>11185893</td>\n",
              "      <td>NaN</td>\n",
              "      <td>0.0</td>\n",
              "    </tr>\n",
              "    <tr>\n",
              "      <th>3</th>\n",
              "      <td>3941358</td>\n",
              "      <td>2802</td>\n",
              "      <td>2020-02-20</td>\n",
              "      <td>C</td>\n",
              "      <td>Calouro</td>\n",
              "      <td>125</td>\n",
              "      <td>Humanas</td>\n",
              "      <td>3941358</td>\n",
              "      <td>NaN</td>\n",
              "      <td>0.0</td>\n",
              "    </tr>\n",
              "    <tr>\n",
              "      <th>4</th>\n",
              "      <td>3941358</td>\n",
              "      <td>2802</td>\n",
              "      <td>2020-01-22</td>\n",
              "      <td>P</td>\n",
              "      <td>Calouro</td>\n",
              "      <td>125</td>\n",
              "      <td>Humanas</td>\n",
              "      <td>3941358</td>\n",
              "      <td>NaN</td>\n",
              "      <td>0.0</td>\n",
              "    </tr>\n",
              "  </tbody>\n",
              "</table>\n",
              "</div>"
            ]
          },
          "metadata": {
            "tags": []
          },
          "execution_count": 71
        }
      ]
    },
    {
      "cell_type": "markdown",
      "metadata": {
        "id": "ilMhotdimCKR"
      },
      "source": [
        "## Histograma de chamados dos calouros cursando\n",
        "\n",
        "Valores concentrados no zero."
      ]
    },
    {
      "cell_type": "code",
      "metadata": {
        "colab": {
          "base_uri": "https://localhost:8080/",
          "height": 533
        },
        "id": "FYlpNcQlUta3",
        "outputId": "a51fc303-169f-4bef-b5da-40005ce82fe8"
      },
      "source": [
        "df_base_calouros_with_curso_and_chamado[df_base_calouros_with_curso_and_chamado['SITUACAO_ALUNO'].isin([\"C\",\"F\",\"R\",\"S\",\"M\"])].hist(column='SHORT_DESCRIPTION_COUNT',bins=50,figsize=(15,8))"
      ],
      "execution_count": 72,
      "outputs": [
        {
          "output_type": "execute_result",
          "data": {
            "text/plain": [
              "array([[<AxesSubplot:title={'center':'SHORT_DESCRIPTION_COUNT'}>]],\n",
              "      dtype=object)"
            ]
          },
          "metadata": {
            "tags": []
          },
          "execution_count": 72
        },
        {
          "output_type": "display_data",
          "data": {
            "text/plain": [
              "<Figure size 1080x576 with 1 Axes>"
            ],
            "image/png": "[encoded data removed]"
          },
          "metadata": {
            "tags": [],
            "needs_background": "light"
          }
        }
      ]
    },
    {
      "cell_type": "markdown",
      "metadata": {
        "id": "PlK8YHDAmRml"
      },
      "source": [
        "## Histograma de chamados dos calouros evadidos\n",
        "\n",
        "Valores concentrados no zero"
      ]
    },
    {
      "cell_type": "code",
      "metadata": {
        "colab": {
          "base_uri": "https://localhost:8080/",
          "height": 533
        },
        "id": "QrAeoeisUta3",
        "outputId": "93e5eb2e-484c-40f4-9fbb-a73b0331f9eb"
      },
      "source": [
        "df_base_calouros_with_curso_and_chamado[df_base_calouros_with_curso_and_chamado['SITUACAO_ALUNO']==\"E\"].hist(column='SHORT_DESCRIPTION_COUNT',bins=50,figsize=(15,8))"
      ],
      "execution_count": 94,
      "outputs": [
        {
          "output_type": "execute_result",
          "data": {
            "text/plain": [
              "array([[<AxesSubplot:title={'center':'SHORT_DESCRIPTION_COUNT'}>]],\n",
              "      dtype=object)"
            ]
          },
          "metadata": {
            "tags": []
          },
          "execution_count": 94
        },
        {
          "output_type": "display_data",
          "data": {
            "text/plain": [
              "<Figure size 1080x576 with 1 Axes>"
            ],
            "image/png": "[encoded data removed]"
          },
          "metadata": {
            "tags": [],
            "needs_background": "light"
          }
        }
      ]
    },
    {
      "cell_type": "markdown",
      "metadata": {
        "id": "BVVYewq-meIj"
      },
      "source": [
        "## Verificação dos chamados por aluno geral"
      ]
    },
    {
      "cell_type": "code",
      "metadata": {
        "colab": {
          "base_uri": "https://localhost:8080/"
        },
        "id": "IWraoGrHUta3",
        "outputId": "f32a2dd9-9bcf-4553-988e-011d03f18610"
      },
      "source": [
        "df_base_chamado[df_base_chamado['RA_ALUNO'].isin(df_base_calouros_with_curso['CODIGO_ALUNO'].astype(str))]['RA_ALUNO'].nunique()"
      ],
      "execution_count": 95,
      "outputs": [
        {
          "output_type": "execute_result",
          "data": {
            "text/plain": [
              "2"
            ]
          },
          "metadata": {
            "tags": []
          },
          "execution_count": 95
        }
      ]
    },
    {
      "cell_type": "markdown",
      "metadata": {
        "id": "7a-1XgK3mkNx"
      },
      "source": [
        "### Contra prova\n",
        "\n",
        "Apenas dois alunos da base de calouros abriram um chamado, número inespressivel."
      ]
    },
    {
      "cell_type": "code",
      "metadata": {
        "colab": {
          "base_uri": "https://localhost:8080/"
        },
        "id": "i7HdWt1uUta3",
        "outputId": "647edec9-f11b-47bc-db8d-2779a7bcbf56"
      },
      "source": [
        "df_base_calouros_with_curso[df_base_calouros_with_curso['CODIGO_ALUNO'].astype(str).isin(df_base_chamado['RA_ALUNO'].drop_duplicates())]['CODIGO_ALUNO'].nunique()"
      ],
      "execution_count": 97,
      "outputs": [
        {
          "output_type": "execute_result",
          "data": {
            "text/plain": [
              "2"
            ]
          },
          "metadata": {
            "tags": []
          },
          "execution_count": 97
        }
      ]
    },
    {
      "cell_type": "markdown",
      "metadata": {
        "id": "QsleRjqootRJ"
      },
      "source": [
        "## Análise exploratória do tipo de chamado"
      ]
    },
    {
      "cell_type": "code",
      "metadata": {
        "colab": {
          "base_uri": "https://localhost:8080/",
          "height": 204
        },
        "id": "lvwZ_9kAUta4",
        "outputId": "0ccfd5eb-35fe-420c-80a1-42224ee85dcb"
      },
      "source": [
        "# Extraindo mês e ano da data\n",
        "df_base_chamado['MES_CREATED'] = df_base_chamado['SYS_CREATED_ON'].dt.to_period('M').astype(str)\n",
        "df_base_chamado.head()"
      ],
      "execution_count": 99,
      "outputs": [
        {
          "output_type": "execute_result",
          "data": {
            "text/plain": [
              "    NUMBER_SN      SYS_CREATED_ON  \\\n",
              "1   CS2245705 2020-03-14 14:08:30   \n",
              "12  CS1913239 2020-03-03 12:23:24   \n",
              "14  CS1903862 2020-03-02 22:20:12   \n",
              "17  CS2150423 2020-03-11 17:30:23   \n",
              "18  CS2347795 2020-03-18 18:44:07   \n",
              "\n",
              "                                    SHORT_DESCRIPTION      RA_ALUNO  FRENTE  \\\n",
              "1   PAD > 1. Graduação Presencial > Atendimento de...    3489323595    PRES   \n",
              "12  PDA > Serviços Acadêmicos > Alterar Meu Curso ...  373087769067  PORTAL   \n",
              "14  PDA > Serviços Acadêmicos > Retirar Confirmaçã...   34516744921  PORTAL   \n",
              "17  PDA > Serviços Acadêmicos > Entregar Atividade...  261534016341  PORTAL   \n",
              "18  PDA > Serviços Acadêmicos > Entregar Atividade...   11690073812  PORTAL   \n",
              "\n",
              "   MES_CREATED  \n",
              "1      2020-03  \n",
              "12     2020-03  \n",
              "14     2020-03  \n",
              "17     2020-03  \n",
              "18     2020-03  "
            ],
            "text/html": [
              "<div>\n",
              "<style scoped>\n",
              "    .dataframe tbody tr th:only-of-type {\n",
              "        vertical-align: middle;\n",
              "    }\n",
              "\n",
              "    .dataframe tbody tr th {\n",
              "        vertical-align: top;\n",
              "    }\n",
              "\n",
              "    .dataframe thead th {\n",
              "        text-align: right;\n",
              "    }\n",
              "</style>\n",
              "<table border=\"1\" class=\"dataframe\">\n",
              "  <thead>\n",
              "    <tr style=\"text-align: right;\">\n",
              "      <th></th>\n",
              "      <th>NUMBER_SN</th>\n",
              "      <th>SYS_CREATED_ON</th>\n",
              "      <th>SHORT_DESCRIPTION</th>\n",
              "      <th>RA_ALUNO</th>\n",
              "      <th>FRENTE</th>\n",
              "      <th>MES_CREATED</th>\n",
              "    </tr>\n",
              "  </thead>\n",
              "  <tbody>\n",
              "    <tr>\n",
              "      <th>1</th>\n",
              "      <td>CS2245705</td>\n",
              "      <td>2020-03-14 14:08:30</td>\n",
              "      <td>PAD &gt; 1. Graduação Presencial &gt; Atendimento de...</td>\n",
              "      <td>3489323595</td>\n",
              "      <td>PRES</td>\n",
              "      <td>2020-03</td>\n",
              "    </tr>\n",
              "    <tr>\n",
              "      <th>12</th>\n",
              "      <td>CS1913239</td>\n",
              "      <td>2020-03-03 12:23:24</td>\n",
              "      <td>PDA &gt; Serviços Acadêmicos &gt; Alterar Meu Curso ...</td>\n",
              "      <td>373087769067</td>\n",
              "      <td>PORTAL</td>\n",
              "      <td>2020-03</td>\n",
              "    </tr>\n",
              "    <tr>\n",
              "      <th>14</th>\n",
              "      <td>CS1903862</td>\n",
              "      <td>2020-03-02 22:20:12</td>\n",
              "      <td>PDA &gt; Serviços Acadêmicos &gt; Retirar Confirmaçã...</td>\n",
              "      <td>34516744921</td>\n",
              "      <td>PORTAL</td>\n",
              "      <td>2020-03</td>\n",
              "    </tr>\n",
              "    <tr>\n",
              "      <th>17</th>\n",
              "      <td>CS2150423</td>\n",
              "      <td>2020-03-11 17:30:23</td>\n",
              "      <td>PDA &gt; Serviços Acadêmicos &gt; Entregar Atividade...</td>\n",
              "      <td>261534016341</td>\n",
              "      <td>PORTAL</td>\n",
              "      <td>2020-03</td>\n",
              "    </tr>\n",
              "    <tr>\n",
              "      <th>18</th>\n",
              "      <td>CS2347795</td>\n",
              "      <td>2020-03-18 18:44:07</td>\n",
              "      <td>PDA &gt; Serviços Acadêmicos &gt; Entregar Atividade...</td>\n",
              "      <td>11690073812</td>\n",
              "      <td>PORTAL</td>\n",
              "      <td>2020-03</td>\n",
              "    </tr>\n",
              "  </tbody>\n",
              "</table>\n",
              "</div>"
            ]
          },
          "metadata": {
            "tags": []
          },
          "execution_count": 99
        }
      ]
    },
    {
      "cell_type": "code",
      "metadata": {
        "colab": {
          "base_uri": "https://localhost:8080/",
          "height": 204
        },
        "id": "fBAMpL5cUta4",
        "outputId": "716a709f-210f-4ab7-ce19-ebfd7ab1b991"
      },
      "source": [
        "# Contagem do número de alunos\n",
        "df_base_chamado_total_mensal = df_base_chamado.groupby(['MES_CREATED','SHORT_DESCRIPTION'],as_index=False)['RA_ALUNO'].count().rename(columns={'RA_ALUNO':'RA_ALUNO_COUNT'})\n",
        "df_base_chamado_total_mensal.head()"
      ],
      "execution_count": 100,
      "outputs": [
        {
          "output_type": "execute_result",
          "data": {
            "text/plain": [
              "  MES_CREATED                                  SHORT_DESCRIPTION  \\\n",
              "0     2020-02  PAD > 1. Graduação Presencial > Alterar Situaç...   \n",
              "1     2020-02  PAD > 1. Graduação Presencial > Ambiente Virtu...   \n",
              "2     2020-02  PAD > 1. Graduação Presencial > Atendimento Pr...   \n",
              "3     2020-02  PAD > 1. Graduação Presencial > Atendimento de...   \n",
              "4     2020-02  PAD > 1. Graduação Presencial > Bolsa deferida...   \n",
              "\n",
              "   RA_ALUNO_COUNT  \n",
              "0             750  \n",
              "1             200  \n",
              "2             402  \n",
              "3            2314  \n",
              "4             209  "
            ],
            "text/html": [
              "<div>\n",
              "<style scoped>\n",
              "    .dataframe tbody tr th:only-of-type {\n",
              "        vertical-align: middle;\n",
              "    }\n",
              "\n",
              "    .dataframe tbody tr th {\n",
              "        vertical-align: top;\n",
              "    }\n",
              "\n",
              "    .dataframe thead th {\n",
              "        text-align: right;\n",
              "    }\n",
              "</style>\n",
              "<table border=\"1\" class=\"dataframe\">\n",
              "  <thead>\n",
              "    <tr style=\"text-align: right;\">\n",
              "      <th></th>\n",
              "      <th>MES_CREATED</th>\n",
              "      <th>SHORT_DESCRIPTION</th>\n",
              "      <th>RA_ALUNO_COUNT</th>\n",
              "    </tr>\n",
              "  </thead>\n",
              "  <tbody>\n",
              "    <tr>\n",
              "      <th>0</th>\n",
              "      <td>2020-02</td>\n",
              "      <td>PAD &gt; 1. Graduação Presencial &gt; Alterar Situaç...</td>\n",
              "      <td>750</td>\n",
              "    </tr>\n",
              "    <tr>\n",
              "      <th>1</th>\n",
              "      <td>2020-02</td>\n",
              "      <td>PAD &gt; 1. Graduação Presencial &gt; Ambiente Virtu...</td>\n",
              "      <td>200</td>\n",
              "    </tr>\n",
              "    <tr>\n",
              "      <th>2</th>\n",
              "      <td>2020-02</td>\n",
              "      <td>PAD &gt; 1. Graduação Presencial &gt; Atendimento Pr...</td>\n",
              "      <td>402</td>\n",
              "    </tr>\n",
              "    <tr>\n",
              "      <th>3</th>\n",
              "      <td>2020-02</td>\n",
              "      <td>PAD &gt; 1. Graduação Presencial &gt; Atendimento de...</td>\n",
              "      <td>2314</td>\n",
              "    </tr>\n",
              "    <tr>\n",
              "      <th>4</th>\n",
              "      <td>2020-02</td>\n",
              "      <td>PAD &gt; 1. Graduação Presencial &gt; Bolsa deferida...</td>\n",
              "      <td>209</td>\n",
              "    </tr>\n",
              "  </tbody>\n",
              "</table>\n",
              "</div>"
            ]
          },
          "metadata": {
            "tags": []
          },
          "execution_count": 100
        }
      ]
    },
    {
      "cell_type": "markdown",
      "metadata": {
        "id": "17lEPVLvp1Og"
      },
      "source": [
        "### Fazendo a extração dos top 5 chamados por mês"
      ]
    },
    {
      "cell_type": "code",
      "metadata": {
        "colab": {
          "base_uri": "https://localhost:8080/",
          "height": 979
        },
        "id": "8Qjx5WUmUta4",
        "outputId": "74f44305-79e1-4e3f-bc09-5398e87bc584"
      },
      "source": [
        "# DataFrame inicial\n",
        "df_base_chamado_total_mensal_maximos = pd.DataFrame()\n",
        "\n",
        "for date_filter in df_base_chamado_total_mensal['MES_CREATED'].drop_duplicates().values:\n",
        "    data = None\n",
        "    # Filtro por data\n",
        "    data = df_base_chamado_total_mensal[df_base_chamado_total_mensal['MES_CREATED']==date_filter].sort_values(by='RA_ALUNO_COUNT',ascending=False)[:5]\n",
        "    df_base_chamado_total_mensal_maximos = df_base_chamado_total_mensal_maximos.append(data)\n",
        "\n",
        "df_base_chamado_total_mensal_maximos"
      ],
      "execution_count": 101,
      "outputs": [
        {
          "output_type": "execute_result",
          "data": {
            "text/plain": [
              "    MES_CREATED                                  SHORT_DESCRIPTION  \\\n",
              "29      2020-02  PDA > Serviços Acadêmicos > Carteirinha Provis...   \n",
              "46      2020-02  PDA > Serviços Financeiros > Não Consigo Gerar...   \n",
              "34      2020-02  PDA > Serviços Acadêmicos > Entregar Atividade...   \n",
              "27      2020-02  PDA > Serviços Acadêmicos > Atestado de Matrícula   \n",
              "56      2020-02  PDA > Solicitação de Carteirinha > Solicitação...   \n",
              "105     2020-03  PDA > Serviços Financeiros > Não Consigo Gerar...   \n",
              "93      2020-03  PDA > Serviços Acadêmicos > Entregar Atividade...   \n",
              "113     2020-03  PDA > Serviços Financeiros > Termo de Quitação...   \n",
              "85      2020-03  PDA > Serviços Acadêmicos > Atestado de Matrícula   \n",
              "100     2020-03  PDA > Serviços Acadêmicos > Retirar Confirmaçã...   \n",
              "158     2020-04  PDA > Serviços Acadêmicos > Entregar Atividade...   \n",
              "169     2020-04  PDA > Serviços Financeiros > Não Consigo Gerar...   \n",
              "132     2020-04  PAD > 1. Graduação Presencial > Atendimento de...   \n",
              "156     2020-04  PDA > Serviços Acadêmicos > Conteúdo Indisponí...   \n",
              "160     2020-04      PDA > Serviços Acadêmicos > Histórico Escolar   \n",
              "212     2020-05  PDA > Serviços Acadêmicos > Entregar Atividade...   \n",
              "219     2020-05  PDA > Serviços Financeiros > Não Consigo Gerar...   \n",
              "190     2020-05  PAD > 1. Graduação Presencial > Atendimento de...   \n",
              "214     2020-05      PDA > Serviços Acadêmicos > Histórico Escolar   \n",
              "207     2020-05  PDA > Serviços Acadêmicos > Atestado de Matrícula   \n",
              "263     2020-06  PDA > Serviços Acadêmicos > Entregar Atividade...   \n",
              "270     2020-06  PDA > Serviços Financeiros > Não Consigo Gerar...   \n",
              "253     2020-06  PAD > 1. Graduação Presencial > Solicitações A...   \n",
              "241     2020-06  PAD > 1. Graduação Presencial > Atendimento de...   \n",
              "278     2020-06  PDA > Serviços Financeiros > Termo de Quitação...   \n",
              "307     2020-07  PDA > Serviços Acadêmicos > Entregar Atividade...   \n",
              "312     2020-07  PDA > Serviços Financeiros > Não Consigo Gerar...   \n",
              "308     2020-07      PDA > Serviços Acadêmicos > Histórico Escolar   \n",
              "285     2020-07  PAD > 1. Graduação Presencial > Atendimento de...   \n",
              "297     2020-07  PAD > 1. Graduação Presencial > Solicitações A...   \n",
              "\n",
              "     RA_ALUNO_COUNT  \n",
              "29             4806  \n",
              "46             4003  \n",
              "34             3648  \n",
              "27             3261  \n",
              "56             3203  \n",
              "105           45339  \n",
              "93            31843  \n",
              "113           13366  \n",
              "85            13348  \n",
              "100           13017  \n",
              "158           25744  \n",
              "169           21866  \n",
              "132            8457  \n",
              "156            2824  \n",
              "160            2670  \n",
              "212           58278  \n",
              "219           34015  \n",
              "190           11134  \n",
              "214            3231  \n",
              "207            2239  \n",
              "263           84726  \n",
              "270           26803  \n",
              "253            8611  \n",
              "241            6980  \n",
              "278            5840  \n",
              "307            3352  \n",
              "312            2948  \n",
              "308             363  \n",
              "285             302  \n",
              "297             256  "
            ],
            "text/html": [
              "<div>\n",
              "<style scoped>\n",
              "    .dataframe tbody tr th:only-of-type {\n",
              "        vertical-align: middle;\n",
              "    }\n",
              "\n",
              "    .dataframe tbody tr th {\n",
              "        vertical-align: top;\n",
              "    }\n",
              "\n",
              "    .dataframe thead th {\n",
              "        text-align: right;\n",
              "    }\n",
              "</style>\n",
              "<table border=\"1\" class=\"dataframe\">\n",
              "  <thead>\n",
              "    <tr style=\"text-align: right;\">\n",
              "      <th></th>\n",
              "      <th>MES_CREATED</th>\n",
              "      <th>SHORT_DESCRIPTION</th>\n",
              "      <th>RA_ALUNO_COUNT</th>\n",
              "    </tr>\n",
              "  </thead>\n",
              "  <tbody>\n",
              "    <tr>\n",
              "      <th>29</th>\n",
              "      <td>2020-02</td>\n",
              "      <td>PDA &gt; Serviços Acadêmicos &gt; Carteirinha Provis...</td>\n",
              "      <td>4806</td>\n",
              "    </tr>\n",
              "    <tr>\n",
              "      <th>46</th>\n",
              "      <td>2020-02</td>\n",
              "      <td>PDA &gt; Serviços Financeiros &gt; Não Consigo Gerar...</td>\n",
              "      <td>4003</td>\n",
              "    </tr>\n",
              "    <tr>\n",
              "      <th>34</th>\n",
              "      <td>2020-02</td>\n",
              "      <td>PDA &gt; Serviços Acadêmicos &gt; Entregar Atividade...</td>\n",
              "      <td>3648</td>\n",
              "    </tr>\n",
              "    <tr>\n",
              "      <th>27</th>\n",
              "      <td>2020-02</td>\n",
              "      <td>PDA &gt; Serviços Acadêmicos &gt; Atestado de Matrícula</td>\n",
              "      <td>3261</td>\n",
              "    </tr>\n",
              "    <tr>\n",
              "      <th>56</th>\n",
              "      <td>2020-02</td>\n",
              "      <td>PDA &gt; Solicitação de Carteirinha &gt; Solicitação...</td>\n",
              "      <td>3203</td>\n",
              "    </tr>\n",
              "    <tr>\n",
              "      <th>105</th>\n",
              "      <td>2020-03</td>\n",
              "      <td>PDA &gt; Serviços Financeiros &gt; Não Consigo Gerar...</td>\n",
              "      <td>45339</td>\n",
              "    </tr>\n",
              "    <tr>\n",
              "      <th>93</th>\n",
              "      <td>2020-03</td>\n",
              "      <td>PDA &gt; Serviços Acadêmicos &gt; Entregar Atividade...</td>\n",
              "      <td>31843</td>\n",
              "    </tr>\n",
              "    <tr>\n",
              "      <th>113</th>\n",
              "      <td>2020-03</td>\n",
              "      <td>PDA &gt; Serviços Financeiros &gt; Termo de Quitação...</td>\n",
              "      <td>13366</td>\n",
              "    </tr>\n",
              "    <tr>\n",
              "      <th>85</th>\n",
              "      <td>2020-03</td>\n",
              "      <td>PDA &gt; Serviços Acadêmicos &gt; Atestado de Matrícula</td>\n",
              "      <td>13348</td>\n",
              "    </tr>\n",
              "    <tr>\n",
              "      <th>100</th>\n",
              "      <td>2020-03</td>\n",
              "      <td>PDA &gt; Serviços Acadêmicos &gt; Retirar Confirmaçã...</td>\n",
              "      <td>13017</td>\n",
              "    </tr>\n",
              "    <tr>\n",
              "      <th>158</th>\n",
              "      <td>2020-04</td>\n",
              "      <td>PDA &gt; Serviços Acadêmicos &gt; Entregar Atividade...</td>\n",
              "      <td>25744</td>\n",
              "    </tr>\n",
              "    <tr>\n",
              "      <th>169</th>\n",
              "      <td>2020-04</td>\n",
              "      <td>PDA &gt; Serviços Financeiros &gt; Não Consigo Gerar...</td>\n",
              "      <td>21866</td>\n",
              "    </tr>\n",
              "    <tr>\n",
              "      <th>132</th>\n",
              "      <td>2020-04</td>\n",
              "      <td>PAD &gt; 1. Graduação Presencial &gt; Atendimento de...</td>\n",
              "      <td>8457</td>\n",
              "    </tr>\n",
              "    <tr>\n",
              "      <th>156</th>\n",
              "      <td>2020-04</td>\n",
              "      <td>PDA &gt; Serviços Acadêmicos &gt; Conteúdo Indisponí...</td>\n",
              "      <td>2824</td>\n",
              "    </tr>\n",
              "    <tr>\n",
              "      <th>160</th>\n",
              "      <td>2020-04</td>\n",
              "      <td>PDA &gt; Serviços Acadêmicos &gt; Histórico Escolar</td>\n",
              "      <td>2670</td>\n",
              "    </tr>\n",
              "    <tr>\n",
              "      <th>212</th>\n",
              "      <td>2020-05</td>\n",
              "      <td>PDA &gt; Serviços Acadêmicos &gt; Entregar Atividade...</td>\n",
              "      <td>58278</td>\n",
              "    </tr>\n",
              "    <tr>\n",
              "      <th>219</th>\n",
              "      <td>2020-05</td>\n",
              "      <td>PDA &gt; Serviços Financeiros &gt; Não Consigo Gerar...</td>\n",
              "      <td>34015</td>\n",
              "    </tr>\n",
              "    <tr>\n",
              "      <th>190</th>\n",
              "      <td>2020-05</td>\n",
              "      <td>PAD &gt; 1. Graduação Presencial &gt; Atendimento de...</td>\n",
              "      <td>11134</td>\n",
              "    </tr>\n",
              "    <tr>\n",
              "      <th>214</th>\n",
              "      <td>2020-05</td>\n",
              "      <td>PDA &gt; Serviços Acadêmicos &gt; Histórico Escolar</td>\n",
              "      <td>3231</td>\n",
              "    </tr>\n",
              "    <tr>\n",
              "      <th>207</th>\n",
              "      <td>2020-05</td>\n",
              "      <td>PDA &gt; Serviços Acadêmicos &gt; Atestado de Matrícula</td>\n",
              "      <td>2239</td>\n",
              "    </tr>\n",
              "    <tr>\n",
              "      <th>263</th>\n",
              "      <td>2020-06</td>\n",
              "      <td>PDA &gt; Serviços Acadêmicos &gt; Entregar Atividade...</td>\n",
              "      <td>84726</td>\n",
              "    </tr>\n",
              "    <tr>\n",
              "      <th>270</th>\n",
              "      <td>2020-06</td>\n",
              "      <td>PDA &gt; Serviços Financeiros &gt; Não Consigo Gerar...</td>\n",
              "      <td>26803</td>\n",
              "    </tr>\n",
              "    <tr>\n",
              "      <th>253</th>\n",
              "      <td>2020-06</td>\n",
              "      <td>PAD &gt; 1. Graduação Presencial &gt; Solicitações A...</td>\n",
              "      <td>8611</td>\n",
              "    </tr>\n",
              "    <tr>\n",
              "      <th>241</th>\n",
              "      <td>2020-06</td>\n",
              "      <td>PAD &gt; 1. Graduação Presencial &gt; Atendimento de...</td>\n",
              "      <td>6980</td>\n",
              "    </tr>\n",
              "    <tr>\n",
              "      <th>278</th>\n",
              "      <td>2020-06</td>\n",
              "      <td>PDA &gt; Serviços Financeiros &gt; Termo de Quitação...</td>\n",
              "      <td>5840</td>\n",
              "    </tr>\n",
              "    <tr>\n",
              "      <th>307</th>\n",
              "      <td>2020-07</td>\n",
              "      <td>PDA &gt; Serviços Acadêmicos &gt; Entregar Atividade...</td>\n",
              "      <td>3352</td>\n",
              "    </tr>\n",
              "    <tr>\n",
              "      <th>312</th>\n",
              "      <td>2020-07</td>\n",
              "      <td>PDA &gt; Serviços Financeiros &gt; Não Consigo Gerar...</td>\n",
              "      <td>2948</td>\n",
              "    </tr>\n",
              "    <tr>\n",
              "      <th>308</th>\n",
              "      <td>2020-07</td>\n",
              "      <td>PDA &gt; Serviços Acadêmicos &gt; Histórico Escolar</td>\n",
              "      <td>363</td>\n",
              "    </tr>\n",
              "    <tr>\n",
              "      <th>285</th>\n",
              "      <td>2020-07</td>\n",
              "      <td>PAD &gt; 1. Graduação Presencial &gt; Atendimento de...</td>\n",
              "      <td>302</td>\n",
              "    </tr>\n",
              "    <tr>\n",
              "      <th>297</th>\n",
              "      <td>2020-07</td>\n",
              "      <td>PAD &gt; 1. Graduação Presencial &gt; Solicitações A...</td>\n",
              "      <td>256</td>\n",
              "    </tr>\n",
              "  </tbody>\n",
              "</table>\n",
              "</div>"
            ]
          },
          "metadata": {
            "tags": []
          },
          "execution_count": 101
        }
      ]
    },
    {
      "cell_type": "markdown",
      "metadata": {
        "id": "9sAZ4Y-AsIXk"
      },
      "source": [
        "### Chamados mais comuns dentro dos top 5 mensais"
      ]
    },
    {
      "cell_type": "code",
      "metadata": {
        "id": "AGI-wFifsDOu",
        "outputId": "51732577-ef3b-4b88-a817-35c60b6a1985",
        "colab": {
          "base_uri": "https://localhost:8080/"
        }
      },
      "source": [
        "df_base_chamado_total_mensal_maximos.groupby(['SHORT_DESCRIPTION'])['SHORT_DESCRIPTION'].count().sort_values(ascending=False)"
      ],
      "execution_count": 105,
      "outputs": [
        {
          "output_type": "execute_result",
          "data": {
            "text/plain": [
              "SHORT_DESCRIPTION\n",
              "PDA > Serviços Financeiros > Não Consigo Gerar o meu Boleto                 6\n",
              "PDA > Serviços Acadêmicos > Entregar Atividade Complementar                 6\n",
              "PAD > 1. Graduação Presencial > Atendimento de Retenção de Aluno            4\n",
              "PDA > Serviços Acadêmicos > Histórico Escolar                               3\n",
              "PDA > Serviços Acadêmicos > Atestado de Matrícula                           3\n",
              "PDA > Serviços Financeiros > Termo de Quitação de Débitos                   2\n",
              "PAD > 1. Graduação Presencial > Solicitações Acadêmicas                     2\n",
              "PDA > Solicitação de Carteirinha > Solicitação de Carteirinha Estudantil    1\n",
              "PDA > Serviços Acadêmicos > Retirar Confirmação de Horário                  1\n",
              "PDA > Serviços Acadêmicos > Conteúdo Indisponível no AVA                    1\n",
              "PDA > Serviços Acadêmicos > Carteirinha Provisória                          1\n",
              "Name: SHORT_DESCRIPTION, dtype: int64"
            ]
          },
          "metadata": {
            "tags": []
          },
          "execution_count": 105
        }
      ]
    },
    {
      "cell_type": "markdown",
      "metadata": {
        "id": "KYacjNIqsQ_u"
      },
      "source": [
        "### Chamados totais dentro dos top 5 mensais"
      ]
    },
    {
      "cell_type": "code",
      "metadata": {
        "colab": {
          "base_uri": "https://localhost:8080/"
        },
        "id": "MQL19Gg2Uta4",
        "outputId": "1d4a3d19-99de-4b6c-d9c1-8fa99a8c59d3"
      },
      "source": [
        "df_base_chamado_total_mensal_maximos.groupby(['SHORT_DESCRIPTION'])['RA_ALUNO_COUNT'].sum().sort_values(ascending=False)"
      ],
      "execution_count": 104,
      "outputs": [
        {
          "output_type": "execute_result",
          "data": {
            "text/plain": [
              "SHORT_DESCRIPTION\n",
              "PDA > Serviços Acadêmicos > Entregar Atividade Complementar                 207591\n",
              "PDA > Serviços Financeiros > Não Consigo Gerar o meu Boleto                 134974\n",
              "PAD > 1. Graduação Presencial > Atendimento de Retenção de Aluno             26873\n",
              "PDA > Serviços Financeiros > Termo de Quitação de Débitos                    19206\n",
              "PDA > Serviços Acadêmicos > Atestado de Matrícula                            18848\n",
              "PDA > Serviços Acadêmicos > Retirar Confirmação de Horário                   13017\n",
              "PAD > 1. Graduação Presencial > Solicitações Acadêmicas                       8867\n",
              "PDA > Serviços Acadêmicos > Histórico Escolar                                 6264\n",
              "PDA > Serviços Acadêmicos > Carteirinha Provisória                            4806\n",
              "PDA > Solicitação de Carteirinha > Solicitação de Carteirinha Estudantil      3203\n",
              "PDA > Serviços Acadêmicos > Conteúdo Indisponível no AVA                      2824\n",
              "Name: RA_ALUNO_COUNT, dtype: int64"
            ]
          },
          "metadata": {
            "tags": []
          },
          "execution_count": 104
        }
      ]
    },
    {
      "cell_type": "code",
      "metadata": {
        "colab": {
          "base_uri": "https://localhost:8080/",
          "height": 306
        },
        "id": "UlgeWXoBUta4",
        "outputId": "83058aea-152a-465f-f37f-d22e225657f9"
      },
      "source": [
        "df_base_calouros_with_curso_evadidos_cursando['MES_LOG'] = df_base_calouros_with_curso_evadidos_cursando['DATA_LOG'].dt.to_period('M').astype(str)\n",
        "df_base_calouros_with_curso_evadidos_cursando.head()"
      ],
      "execution_count": 106,
      "outputs": [
        {
          "output_type": "stream",
          "text": [
            "<ipython-input-106-f68ec9558cca>:1: SettingWithCopyWarning: \n",
            "A value is trying to be set on a copy of a slice from a DataFrame.\n",
            "Try using .loc[row_indexer,col_indexer] = value instead\n",
            "\n",
            "See the caveats in the documentation: https://pandas.pydata.org/pandas-docs/stable/user_guide/indexing.html#returning-a-view-versus-a-copy\n",
            "  df_base_calouros_with_curso_evadidos_cursando['MES_LOG'] = df_base_calouros_with_curso_evadidos_cursando['DATA_LOG'].dt.to_period('M').astype(str)\n"
          ],
          "name": "stderr"
        },
        {
          "output_type": "execute_result",
          "data": {
            "text/plain": [
              "    CODIGO_ALUNO  CODIGO_CURSO   DATA_LOG SITUACAO_ALUNO TIPO_ALUNO  \\\n",
              "0       11185893           543 2020-06-25              E    Calouro   \n",
              "12      11388114          1245 2020-06-25              E    Calouro   \n",
              "15      11389155          5442 2020-02-27              E    Calouro   \n",
              "20      11401209           606 2020-02-27              E    Calouro   \n",
              "26      11437791           543 2020-06-25              E    Calouro   \n",
              "\n",
              "    Ticket médio mensal Grande área do curso CODIGO_ALUNO_STR  MES_LOG  \n",
              "0                   267              Humanas         11185893  2020-06  \n",
              "12                  302              Humanas         11388114  2020-06  \n",
              "15                  497              Humanas         11389155  2020-02  \n",
              "20                 1708              Humanas         11401209  2020-02  \n",
              "26                  267              Humanas         11437791  2020-06  "
            ],
            "text/html": [
              "<div>\n",
              "<style scoped>\n",
              "    .dataframe tbody tr th:only-of-type {\n",
              "        vertical-align: middle;\n",
              "    }\n",
              "\n",
              "    .dataframe tbody tr th {\n",
              "        vertical-align: top;\n",
              "    }\n",
              "\n",
              "    .dataframe thead th {\n",
              "        text-align: right;\n",
              "    }\n",
              "</style>\n",
              "<table border=\"1\" class=\"dataframe\">\n",
              "  <thead>\n",
              "    <tr style=\"text-align: right;\">\n",
              "      <th></th>\n",
              "      <th>CODIGO_ALUNO</th>\n",
              "      <th>CODIGO_CURSO</th>\n",
              "      <th>DATA_LOG</th>\n",
              "      <th>SITUACAO_ALUNO</th>\n",
              "      <th>TIPO_ALUNO</th>\n",
              "      <th>Ticket médio mensal</th>\n",
              "      <th>Grande área do curso</th>\n",
              "      <th>CODIGO_ALUNO_STR</th>\n",
              "      <th>MES_LOG</th>\n",
              "    </tr>\n",
              "  </thead>\n",
              "  <tbody>\n",
              "    <tr>\n",
              "      <th>0</th>\n",
              "      <td>11185893</td>\n",
              "      <td>543</td>\n",
              "      <td>2020-06-25</td>\n",
              "      <td>E</td>\n",
              "      <td>Calouro</td>\n",
              "      <td>267</td>\n",
              "      <td>Humanas</td>\n",
              "      <td>11185893</td>\n",
              "      <td>2020-06</td>\n",
              "    </tr>\n",
              "    <tr>\n",
              "      <th>12</th>\n",
              "      <td>11388114</td>\n",
              "      <td>1245</td>\n",
              "      <td>2020-06-25</td>\n",
              "      <td>E</td>\n",
              "      <td>Calouro</td>\n",
              "      <td>302</td>\n",
              "      <td>Humanas</td>\n",
              "      <td>11388114</td>\n",
              "      <td>2020-06</td>\n",
              "    </tr>\n",
              "    <tr>\n",
              "      <th>15</th>\n",
              "      <td>11389155</td>\n",
              "      <td>5442</td>\n",
              "      <td>2020-02-27</td>\n",
              "      <td>E</td>\n",
              "      <td>Calouro</td>\n",
              "      <td>497</td>\n",
              "      <td>Humanas</td>\n",
              "      <td>11389155</td>\n",
              "      <td>2020-02</td>\n",
              "    </tr>\n",
              "    <tr>\n",
              "      <th>20</th>\n",
              "      <td>11401209</td>\n",
              "      <td>606</td>\n",
              "      <td>2020-02-27</td>\n",
              "      <td>E</td>\n",
              "      <td>Calouro</td>\n",
              "      <td>1708</td>\n",
              "      <td>Humanas</td>\n",
              "      <td>11401209</td>\n",
              "      <td>2020-02</td>\n",
              "    </tr>\n",
              "    <tr>\n",
              "      <th>26</th>\n",
              "      <td>11437791</td>\n",
              "      <td>543</td>\n",
              "      <td>2020-06-25</td>\n",
              "      <td>E</td>\n",
              "      <td>Calouro</td>\n",
              "      <td>267</td>\n",
              "      <td>Humanas</td>\n",
              "      <td>11437791</td>\n",
              "      <td>2020-06</td>\n",
              "    </tr>\n",
              "  </tbody>\n",
              "</table>\n",
              "</div>"
            ]
          },
          "metadata": {
            "tags": []
          },
          "execution_count": 106
        }
      ]
    },
    {
      "cell_type": "code",
      "metadata": {
        "colab": {
          "base_uri": "https://localhost:8080/",
          "height": 390
        },
        "id": "w7Kw3pD_Uta4",
        "outputId": "4679c47e-3539-4298-ffa0-29a0cdba3c48"
      },
      "source": [
        "df_base_calouros_with_curso_evadidos_cursando_ticket_total = df_base_calouros_with_curso_evadidos_cursando.groupby(['MES_LOG'],as_index=False)['Ticket médio mensal'].sum().rename(columns={'Ticket médio mensal':'Ticket médio mensal total'})\n",
        "df_base_calouros_with_curso_evadidos_cursando_ticket_total"
      ],
      "execution_count": 78,
      "outputs": [
        {
          "output_type": "execute_result",
          "data": {
            "text/plain": [
              "    MES_LOG  Ticket médio mensal total\n",
              "0   2019-10                       5726\n",
              "1   2019-11                      42944\n",
              "2   2019-12                     124719\n",
              "3   2020-01                     687055\n",
              "4   2020-02                    1519851\n",
              "5   2020-03                     970899\n",
              "6   2020-04                     805478\n",
              "7   2020-05                    1358737\n",
              "8   2020-06                    2257944\n",
              "9   2020-07                      37425\n",
              "10  2020-08                        995"
            ],
            "text/html": [
              "<div>\n",
              "<style scoped>\n",
              "    .dataframe tbody tr th:only-of-type {\n",
              "        vertical-align: middle;\n",
              "    }\n",
              "\n",
              "    .dataframe tbody tr th {\n",
              "        vertical-align: top;\n",
              "    }\n",
              "\n",
              "    .dataframe thead th {\n",
              "        text-align: right;\n",
              "    }\n",
              "</style>\n",
              "<table border=\"1\" class=\"dataframe\">\n",
              "  <thead>\n",
              "    <tr style=\"text-align: right;\">\n",
              "      <th></th>\n",
              "      <th>MES_LOG</th>\n",
              "      <th>Ticket médio mensal total</th>\n",
              "    </tr>\n",
              "  </thead>\n",
              "  <tbody>\n",
              "    <tr>\n",
              "      <th>0</th>\n",
              "      <td>2019-10</td>\n",
              "      <td>5726</td>\n",
              "    </tr>\n",
              "    <tr>\n",
              "      <th>1</th>\n",
              "      <td>2019-11</td>\n",
              "      <td>42944</td>\n",
              "    </tr>\n",
              "    <tr>\n",
              "      <th>2</th>\n",
              "      <td>2019-12</td>\n",
              "      <td>124719</td>\n",
              "    </tr>\n",
              "    <tr>\n",
              "      <th>3</th>\n",
              "      <td>2020-01</td>\n",
              "      <td>687055</td>\n",
              "    </tr>\n",
              "    <tr>\n",
              "      <th>4</th>\n",
              "      <td>2020-02</td>\n",
              "      <td>1519851</td>\n",
              "    </tr>\n",
              "    <tr>\n",
              "      <th>5</th>\n",
              "      <td>2020-03</td>\n",
              "      <td>970899</td>\n",
              "    </tr>\n",
              "    <tr>\n",
              "      <th>6</th>\n",
              "      <td>2020-04</td>\n",
              "      <td>805478</td>\n",
              "    </tr>\n",
              "    <tr>\n",
              "      <th>7</th>\n",
              "      <td>2020-05</td>\n",
              "      <td>1358737</td>\n",
              "    </tr>\n",
              "    <tr>\n",
              "      <th>8</th>\n",
              "      <td>2020-06</td>\n",
              "      <td>2257944</td>\n",
              "    </tr>\n",
              "    <tr>\n",
              "      <th>9</th>\n",
              "      <td>2020-07</td>\n",
              "      <td>37425</td>\n",
              "    </tr>\n",
              "    <tr>\n",
              "      <th>10</th>\n",
              "      <td>2020-08</td>\n",
              "      <td>995</td>\n",
              "    </tr>\n",
              "  </tbody>\n",
              "</table>\n",
              "</div>"
            ]
          },
          "metadata": {
            "tags": []
          },
          "execution_count": 78
        }
      ]
    },
    {
      "cell_type": "code",
      "metadata": {
        "colab": {
          "base_uri": "https://localhost:8080/",
          "height": 526
        },
        "id": "wGkVZ7BsUta4",
        "outputId": "5bb30f7f-257e-4752-a7e0-a5695c4a5dff"
      },
      "source": [
        "fig, ax = plt.subplots(1, 1, figsize=(15, 8))\n",
        "sns.lineplot(data=df_base_calouros_with_curso_evadidos_cursando_ticket_total, x=\"MES_LOG\", y=\"Ticket médio mensal total\")"
      ],
      "execution_count": 79,
      "outputs": [
        {
          "output_type": "execute_result",
          "data": {
            "text/plain": [
              "<AxesSubplot:xlabel='MES_LOG', ylabel='Ticket médio mensal total'>"
            ]
          },
          "metadata": {
            "tags": []
          },
          "execution_count": 79
        },
        {
          "output_type": "display_data",
          "data": {
            "text/plain": [
              "<Figure size 1080x576 with 1 Axes>"
            ],
            "image/png": "[encoded data removed]"
          },
          "metadata": {
            "tags": [],
            "needs_background": "light"
          }
        }
      ]
    },
    {
      "cell_type": "code",
      "metadata": {
        "colab": {
          "base_uri": "https://localhost:8080/",
          "height": 390
        },
        "id": "OiucN4VlUta4",
        "outputId": "c590f973-5ca9-4ec5-9855-2816be9703f6"
      },
      "source": [
        "df_evasao_mensal = df_base_calouros_with_curso_evadidos_cursando.groupby(['MES_LOG'],as_index=False)['CODIGO_ALUNO'].nunique().rename(columns={'CODIGO_ALUNO':'EVASAO_MENSAL'})\n",
        "df_evasao_mensal"
      ],
      "execution_count": 80,
      "outputs": [
        {
          "output_type": "execute_result",
          "data": {
            "text/plain": [
              "    MES_LOG  EVASAO_MENSAL\n",
              "0   2019-10             26\n",
              "1   2019-11            175\n",
              "2   2019-12            516\n",
              "3   2020-01           2750\n",
              "4   2020-02           6309\n",
              "5   2020-03           4661\n",
              "6   2020-04           3628\n",
              "7   2020-05           6311\n",
              "8   2020-06           8627\n",
              "9   2020-07            168\n",
              "10  2020-08              4"
            ],
            "text/html": [
              "<div>\n",
              "<style scoped>\n",
              "    .dataframe tbody tr th:only-of-type {\n",
              "        vertical-align: middle;\n",
              "    }\n",
              "\n",
              "    .dataframe tbody tr th {\n",
              "        vertical-align: top;\n",
              "    }\n",
              "\n",
              "    .dataframe thead th {\n",
              "        text-align: right;\n",
              "    }\n",
              "</style>\n",
              "<table border=\"1\" class=\"dataframe\">\n",
              "  <thead>\n",
              "    <tr style=\"text-align: right;\">\n",
              "      <th></th>\n",
              "      <th>MES_LOG</th>\n",
              "      <th>EVASAO_MENSAL</th>\n",
              "    </tr>\n",
              "  </thead>\n",
              "  <tbody>\n",
              "    <tr>\n",
              "      <th>0</th>\n",
              "      <td>2019-10</td>\n",
              "      <td>26</td>\n",
              "    </tr>\n",
              "    <tr>\n",
              "      <th>1</th>\n",
              "      <td>2019-11</td>\n",
              "      <td>175</td>\n",
              "    </tr>\n",
              "    <tr>\n",
              "      <th>2</th>\n",
              "      <td>2019-12</td>\n",
              "      <td>516</td>\n",
              "    </tr>\n",
              "    <tr>\n",
              "      <th>3</th>\n",
              "      <td>2020-01</td>\n",
              "      <td>2750</td>\n",
              "    </tr>\n",
              "    <tr>\n",
              "      <th>4</th>\n",
              "      <td>2020-02</td>\n",
              "      <td>6309</td>\n",
              "    </tr>\n",
              "    <tr>\n",
              "      <th>5</th>\n",
              "      <td>2020-03</td>\n",
              "      <td>4661</td>\n",
              "    </tr>\n",
              "    <tr>\n",
              "      <th>6</th>\n",
              "      <td>2020-04</td>\n",
              "      <td>3628</td>\n",
              "    </tr>\n",
              "    <tr>\n",
              "      <th>7</th>\n",
              "      <td>2020-05</td>\n",
              "      <td>6311</td>\n",
              "    </tr>\n",
              "    <tr>\n",
              "      <th>8</th>\n",
              "      <td>2020-06</td>\n",
              "      <td>8627</td>\n",
              "    </tr>\n",
              "    <tr>\n",
              "      <th>9</th>\n",
              "      <td>2020-07</td>\n",
              "      <td>168</td>\n",
              "    </tr>\n",
              "    <tr>\n",
              "      <th>10</th>\n",
              "      <td>2020-08</td>\n",
              "      <td>4</td>\n",
              "    </tr>\n",
              "  </tbody>\n",
              "</table>\n",
              "</div>"
            ]
          },
          "metadata": {
            "tags": []
          },
          "execution_count": 80
        }
      ]
    },
    {
      "cell_type": "code",
      "metadata": {
        "colab": {
          "base_uri": "https://localhost:8080/",
          "height": 515
        },
        "id": "-eQOMrtPUta4",
        "outputId": "ba7ab89c-19ae-44aa-d8f9-10b89fe74734"
      },
      "source": [
        "fig, ax = plt.subplots(1, 1, figsize=(15, 8))\n",
        "sns.lineplot(data=df_evasao_mensal, x=\"MES_LOG\", y=\"EVASAO_MENSAL\")"
      ],
      "execution_count": 81,
      "outputs": [
        {
          "output_type": "execute_result",
          "data": {
            "text/plain": [
              "<AxesSubplot:xlabel='MES_LOG', ylabel='EVASAO_MENSAL'>"
            ]
          },
          "metadata": {
            "tags": []
          },
          "execution_count": 81
        },
        {
          "output_type": "display_data",
          "data": {
            "text/plain": [
              "<Figure size 1080x576 with 1 Axes>"
            ],
            "image/png": "[encoded data removed]"
          },
          "metadata": {
            "tags": [],
            "needs_background": "light"
          }
        }
      ]
    },
    {
      "cell_type": "code",
      "metadata": {
        "colab": {
          "base_uri": "https://localhost:8080/",
          "height": 390
        },
        "id": "9BbrPuycUta4",
        "outputId": "d9a76fcb-c58a-4b50-86f5-667462f2256d"
      },
      "source": [
        "df_covid_cut_brasil = df_covid[df_covid['regiao']=='Brasil']\n",
        "df_covid_cut_brasil['mes_ano'] = pd.to_datetime(df_covid_cut_brasil['data']).dt.to_period('M').astype(str)\n",
        "df_covid_cut_brasil_total_mensal = df_covid_cut_brasil.groupby(['mes_ano'],as_index=False)['casosNovos'].sum().rename(columns={'casosNovos':'casos_mensais'})\n",
        "df_covid_cut_brasil_total_mensal\n"
      ],
      "execution_count": 82,
      "outputs": [
        {
          "output_type": "execute_result",
          "data": {
            "text/plain": [
              "    mes_ano  casos_mensais\n",
              "0   2020-02              2\n",
              "1   2020-03           5715\n",
              "2   2020-04          79663\n",
              "3   2020-05         428820\n",
              "4   2020-06         887841\n",
              "5   2020-07        1260444\n",
              "6   2020-08        1245787\n",
              "7   2020-09         902663\n",
              "8   2020-10         724670\n",
              "9   2020-11         800273\n",
              "10  2020-12         151206"
            ],
            "text/html": [
              "<div>\n",
              "<style scoped>\n",
              "    .dataframe tbody tr th:only-of-type {\n",
              "        vertical-align: middle;\n",
              "    }\n",
              "\n",
              "    .dataframe tbody tr th {\n",
              "        vertical-align: top;\n",
              "    }\n",
              "\n",
              "    .dataframe thead th {\n",
              "        text-align: right;\n",
              "    }\n",
              "</style>\n",
              "<table border=\"1\" class=\"dataframe\">\n",
              "  <thead>\n",
              "    <tr style=\"text-align: right;\">\n",
              "      <th></th>\n",
              "      <th>mes_ano</th>\n",
              "      <th>casos_mensais</th>\n",
              "    </tr>\n",
              "  </thead>\n",
              "  <tbody>\n",
              "    <tr>\n",
              "      <th>0</th>\n",
              "      <td>2020-02</td>\n",
              "      <td>2</td>\n",
              "    </tr>\n",
              "    <tr>\n",
              "      <th>1</th>\n",
              "      <td>2020-03</td>\n",
              "      <td>5715</td>\n",
              "    </tr>\n",
              "    <tr>\n",
              "      <th>2</th>\n",
              "      <td>2020-04</td>\n",
              "      <td>79663</td>\n",
              "    </tr>\n",
              "    <tr>\n",
              "      <th>3</th>\n",
              "      <td>2020-05</td>\n",
              "      <td>428820</td>\n",
              "    </tr>\n",
              "    <tr>\n",
              "      <th>4</th>\n",
              "      <td>2020-06</td>\n",
              "      <td>887841</td>\n",
              "    </tr>\n",
              "    <tr>\n",
              "      <th>5</th>\n",
              "      <td>2020-07</td>\n",
              "      <td>1260444</td>\n",
              "    </tr>\n",
              "    <tr>\n",
              "      <th>6</th>\n",
              "      <td>2020-08</td>\n",
              "      <td>1245787</td>\n",
              "    </tr>\n",
              "    <tr>\n",
              "      <th>7</th>\n",
              "      <td>2020-09</td>\n",
              "      <td>902663</td>\n",
              "    </tr>\n",
              "    <tr>\n",
              "      <th>8</th>\n",
              "      <td>2020-10</td>\n",
              "      <td>724670</td>\n",
              "    </tr>\n",
              "    <tr>\n",
              "      <th>9</th>\n",
              "      <td>2020-11</td>\n",
              "      <td>800273</td>\n",
              "    </tr>\n",
              "    <tr>\n",
              "      <th>10</th>\n",
              "      <td>2020-12</td>\n",
              "      <td>151206</td>\n",
              "    </tr>\n",
              "  </tbody>\n",
              "</table>\n",
              "</div>"
            ]
          },
          "metadata": {
            "tags": []
          },
          "execution_count": 82
        }
      ]
    },
    {
      "cell_type": "code",
      "metadata": {
        "colab": {
          "base_uri": "https://localhost:8080/",
          "height": 525
        },
        "id": "cuGkqDF6Uta4",
        "outputId": "6fa56d8c-8e89-44a8-aa48-372ecf59e5a9"
      },
      "source": [
        "fig, ax = plt.subplots(1, 1, figsize=(15, 8))\n",
        "sns.lineplot(data=df_covid_cut_brasil_total_mensal, x=\"mes_ano\", y=\"casos_mensais\")"
      ],
      "execution_count": 83,
      "outputs": [
        {
          "output_type": "execute_result",
          "data": {
            "text/plain": [
              "<AxesSubplot:xlabel='mes_ano', ylabel='casos_mensais'>"
            ]
          },
          "metadata": {
            "tags": []
          },
          "execution_count": 83
        },
        {
          "output_type": "display_data",
          "data": {
            "text/plain": [
              "<Figure size 1080x576 with 1 Axes>"
            ],
            "image/png": "[encoded data removed]"
          },
          "metadata": {
            "tags": [],
            "needs_background": "light"
          }
        }
      ]
    },
    {
      "cell_type": "code",
      "metadata": {
        "colab": {
          "base_uri": "https://localhost:8080/",
          "height": 111
        },
        "id": "7C8tDUtCUta4",
        "outputId": "759f0aaa-6087-43a7-a66a-ecf360915941"
      },
      "source": [
        "df_evasao_covid = pd.DataFrame(df_evasao_mensal['MES_LOG'].append(df_covid_cut_brasil_total_mensal['mes_ano']).drop_duplicates().reset_index(drop=True), columns=['mes_ano'])\n",
        "df_evasao_covid = pd.merge(df_evasao_covid, df_evasao_mensal, left_on='mes_ano', right_on='MES_LOG',\n",
        "                 how='left').merge(df_covid_cut_brasil_total_mensal, left_on='mes_ano', right_on='mes_ano',\n",
        "                 how='left')\n",
        "df_evasao_covid.corr()"
      ],
      "execution_count": 98,
      "outputs": [
        {
          "output_type": "execute_result",
          "data": {
            "text/plain": [
              "               EVASAO_MENSAL  casos_mensais\n",
              "EVASAO_MENSAL       1.000000      -0.515379\n",
              "casos_mensais      -0.515379       1.000000"
            ],
            "text/html": [
              "<div>\n",
              "<style scoped>\n",
              "    .dataframe tbody tr th:only-of-type {\n",
              "        vertical-align: middle;\n",
              "    }\n",
              "\n",
              "    .dataframe tbody tr th {\n",
              "        vertical-align: top;\n",
              "    }\n",
              "\n",
              "    .dataframe thead th {\n",
              "        text-align: right;\n",
              "    }\n",
              "</style>\n",
              "<table border=\"1\" class=\"dataframe\">\n",
              "  <thead>\n",
              "    <tr style=\"text-align: right;\">\n",
              "      <th></th>\n",
              "      <th>EVASAO_MENSAL</th>\n",
              "      <th>casos_mensais</th>\n",
              "    </tr>\n",
              "  </thead>\n",
              "  <tbody>\n",
              "    <tr>\n",
              "      <th>EVASAO_MENSAL</th>\n",
              "      <td>1.000000</td>\n",
              "      <td>-0.515379</td>\n",
              "    </tr>\n",
              "    <tr>\n",
              "      <th>casos_mensais</th>\n",
              "      <td>-0.515379</td>\n",
              "      <td>1.000000</td>\n",
              "    </tr>\n",
              "  </tbody>\n",
              "</table>\n",
              "</div>"
            ]
          },
          "metadata": {
            "tags": []
          },
          "execution_count": 98
        }
      ]
    }
  ]
}