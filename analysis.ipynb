{
  "nbformat": 4,
  "nbformat_minor": 0,
  "metadata": {
    "language_info": {
      "codemirror_mode": {
        "name": "ipython",
        "version": 3
      },
      "file_extension": ".py",
      "mimetype": "text/x-python",
      "name": "python",
      "nbconvert_exporter": "python",
      "pygments_lexer": "ipython3",
      "version": "3.8.3-final"
    },
    "orig_nbformat": 2,
    "kernelspec": {
      "name": "python3",
      "display_name": "Python 3"
    },
    "colab": {
      "name": "analysis.ipynb",
      "provenance": []
    }
  },
  "cells": [
    {
      "cell_type": "code",
      "metadata": {
        "id": "SgrX3DX3idxl"
      },
      "source": [
        "import pandas as pd"
      ],
      "execution_count": 2,
      "outputs": []
    },
    {
      "cell_type": "code",
      "metadata": {
        "colab": {
          "base_uri": "https://localhost:8080/"
        },
        "id": "ums9YNY0idxl",
        "outputId": "a18d107b-2514-4234-a9d2-f3b2246d22a1"
      },
      "source": [
        "df_aux_curso = pd.read_excel('data/Aux_Curso.xlsx',index_col=0)\n",
        "df_aux_chamado = pd.read_excel('data/Aux_chamado.xlsx',index_col=0)\n",
        "df_base_chamado = pd.read_excel('data/Base_Chamados.xlsx',index_col=0)\n",
        "df_base_calouros = pd.read_excel('data/Base_log_calouros.xlsx',index_col=0)\n",
        "\n",
        "print(f'df_aux_curso: {df_aux_curso.shape}')\n",
        "print(f'df_aux_chamado: {df_aux_chamado.shape}')\n",
        "print(f'df_base_chamado: {df_base_chamado.shape}')\n",
        "print(f'df_base_calouros: {df_base_calouros.shape}')"
      ],
      "execution_count": 9,
      "outputs": [
        {
          "output_type": "stream",
          "text": [
            "df_aux_curso: (3652, 3)\n",
            "df_aux_chamado: (83, 3)\n",
            "df_base_chamado: (938182, 5)\n",
            "df_base_calouros: (246110, 5)\n"
          ],
          "name": "stdout"
        }
      ]
    },
    {
      "cell_type": "code",
      "metadata": {
        "colab": {
          "base_uri": "https://localhost:8080/",
          "height": 204
        },
        "id": "Wr1JdbAaoIh9",
        "outputId": "41fb34de-8fb1-4817-c587-b004d8ecfff1"
      },
      "source": [
        "df_aux_curso.head()"
      ],
      "execution_count": 10,
      "outputs": [
        {
          "output_type": "execute_result",
          "data": {
            "text/plain": [
              "   CODIGO_CURSO  Ticket médio mensal Grande área do curso\n",
              "0             3                  241              Humanas\n",
              "1             6                  143              Humanas\n",
              "2           243                  226              Humanas\n",
              "3           246                  347              Humanas\n",
              "4           258                  107              Humanas"
            ],
            "text/html": [
              "<div>\n",
              "<style scoped>\n",
              "    .dataframe tbody tr th:only-of-type {\n",
              "        vertical-align: middle;\n",
              "    }\n",
              "\n",
              "    .dataframe tbody tr th {\n",
              "        vertical-align: top;\n",
              "    }\n",
              "\n",
              "    .dataframe thead th {\n",
              "        text-align: right;\n",
              "    }\n",
              "</style>\n",
              "<table border=\"1\" class=\"dataframe\">\n",
              "  <thead>\n",
              "    <tr style=\"text-align: right;\">\n",
              "      <th></th>\n",
              "      <th>CODIGO_CURSO</th>\n",
              "      <th>Ticket médio mensal</th>\n",
              "      <th>Grande área do curso</th>\n",
              "    </tr>\n",
              "  </thead>\n",
              "  <tbody>\n",
              "    <tr>\n",
              "      <th>0</th>\n",
              "      <td>3</td>\n",
              "      <td>241</td>\n",
              "      <td>Humanas</td>\n",
              "    </tr>\n",
              "    <tr>\n",
              "      <th>1</th>\n",
              "      <td>6</td>\n",
              "      <td>143</td>\n",
              "      <td>Humanas</td>\n",
              "    </tr>\n",
              "    <tr>\n",
              "      <th>2</th>\n",
              "      <td>243</td>\n",
              "      <td>226</td>\n",
              "      <td>Humanas</td>\n",
              "    </tr>\n",
              "    <tr>\n",
              "      <th>3</th>\n",
              "      <td>246</td>\n",
              "      <td>347</td>\n",
              "      <td>Humanas</td>\n",
              "    </tr>\n",
              "    <tr>\n",
              "      <th>4</th>\n",
              "      <td>258</td>\n",
              "      <td>107</td>\n",
              "      <td>Humanas</td>\n",
              "    </tr>\n",
              "  </tbody>\n",
              "</table>\n",
              "</div>"
            ]
          },
          "metadata": {
            "tags": []
          },
          "execution_count": 10
        }
      ]
    },
    {
      "cell_type": "code",
      "metadata": {
        "colab": {
          "base_uri": "https://localhost:8080/",
          "height": 204
        },
        "id": "3DndhmuvoWIV",
        "outputId": "00960c4f-b349-4038-f304-ac4b00cbb1fd"
      },
      "source": [
        "df_aux_chamado.head()"
      ],
      "execution_count": 11,
      "outputs": [
        {
          "output_type": "execute_result",
          "data": {
            "text/plain": [
              "                                   SHORT_DESCRIPTION  FRENTE  \\\n",
              "0  KrotonPDA > Serviços Acadêmicos > Atestado de ...  PORTAL   \n",
              "1  KrotonPDA > Serviços Acadêmicos > Histórico Es...  PORTAL   \n",
              "2  KrotonPDA > Serviços Acadêmicos > Inclusão de ...  PORTAL   \n",
              "3  KrotonPDA > Serviços Acadêmicos > Suspensão de...  PORTAL   \n",
              "4  KrotonPDA > Serviços Financeiros >  Alterar o ...  PORTAL   \n",
              "\n",
              "  ÁREA DE SUPORTE RESPONSÁVEL  \n",
              "0        Secretaria Acadêmica  \n",
              "1        Secretaria Acadêmica  \n",
              "2        Secretaria Acadêmica  \n",
              "3        Secretaria Acadêmica  \n",
              "4                  Financeiro  "
            ],
            "text/html": [
              "<div>\n",
              "<style scoped>\n",
              "    .dataframe tbody tr th:only-of-type {\n",
              "        vertical-align: middle;\n",
              "    }\n",
              "\n",
              "    .dataframe tbody tr th {\n",
              "        vertical-align: top;\n",
              "    }\n",
              "\n",
              "    .dataframe thead th {\n",
              "        text-align: right;\n",
              "    }\n",
              "</style>\n",
              "<table border=\"1\" class=\"dataframe\">\n",
              "  <thead>\n",
              "    <tr style=\"text-align: right;\">\n",
              "      <th></th>\n",
              "      <th>SHORT_DESCRIPTION</th>\n",
              "      <th>FRENTE</th>\n",
              "      <th>ÁREA DE SUPORTE RESPONSÁVEL</th>\n",
              "    </tr>\n",
              "  </thead>\n",
              "  <tbody>\n",
              "    <tr>\n",
              "      <th>0</th>\n",
              "      <td>KrotonPDA &gt; Serviços Acadêmicos &gt; Atestado de ...</td>\n",
              "      <td>PORTAL</td>\n",
              "      <td>Secretaria Acadêmica</td>\n",
              "    </tr>\n",
              "    <tr>\n",
              "      <th>1</th>\n",
              "      <td>KrotonPDA &gt; Serviços Acadêmicos &gt; Histórico Es...</td>\n",
              "      <td>PORTAL</td>\n",
              "      <td>Secretaria Acadêmica</td>\n",
              "    </tr>\n",
              "    <tr>\n",
              "      <th>2</th>\n",
              "      <td>KrotonPDA &gt; Serviços Acadêmicos &gt; Inclusão de ...</td>\n",
              "      <td>PORTAL</td>\n",
              "      <td>Secretaria Acadêmica</td>\n",
              "    </tr>\n",
              "    <tr>\n",
              "      <th>3</th>\n",
              "      <td>KrotonPDA &gt; Serviços Acadêmicos &gt; Suspensão de...</td>\n",
              "      <td>PORTAL</td>\n",
              "      <td>Secretaria Acadêmica</td>\n",
              "    </tr>\n",
              "    <tr>\n",
              "      <th>4</th>\n",
              "      <td>KrotonPDA &gt; Serviços Financeiros &gt;  Alterar o ...</td>\n",
              "      <td>PORTAL</td>\n",
              "      <td>Financeiro</td>\n",
              "    </tr>\n",
              "  </tbody>\n",
              "</table>\n",
              "</div>"
            ]
          },
          "metadata": {
            "tags": []
          },
          "execution_count": 11
        }
      ]
    },
    {
      "cell_type": "code",
      "metadata": {
        "colab": {
          "base_uri": "https://localhost:8080/",
          "height": 204
        },
        "id": "fOPoKAamob8m",
        "outputId": "63fb7f8e-34a9-437a-9670-0f430fd6186e"
      },
      "source": [
        "df_base_chamado.head()"
      ],
      "execution_count": 12,
      "outputs": [
        {
          "output_type": "execute_result",
          "data": {
            "text/plain": [
              "    NUMBER_SN      SYS_CREATED_ON  \\\n",
              "1   CS2245705 2020-03-14 14:08:30   \n",
              "4   CS1496976 2020-01-30 16:14:06   \n",
              "5   CS1541894 2020-02-04 15:01:09   \n",
              "9   CS1550304 2020-02-04 20:57:00   \n",
              "12  CS1913239 2020-03-03 12:23:24   \n",
              "\n",
              "                                    SHORT_DESCRIPTION      RA_ALUNO  FRENTE  \n",
              "1   PAD > 1. Graduação Presencial > Atendimento de...    3489323595    PRES  \n",
              "4   PDA > Serviços Acadêmicos > Entregar Atividade...     818823833  PORTAL  \n",
              "5   PDA > Serviços Acadêmicos > Atestado de Matrícula  379127814579  PORTAL  \n",
              "9   PDA > Serviços Financeiros > Não Consigo Gerar...  365392513920  PORTAL  \n",
              "12  PDA > Serviços Acadêmicos > Alterar Meu Curso ...  373087769067  PORTAL  "
            ],
            "text/html": [
              "<div>\n",
              "<style scoped>\n",
              "    .dataframe tbody tr th:only-of-type {\n",
              "        vertical-align: middle;\n",
              "    }\n",
              "\n",
              "    .dataframe tbody tr th {\n",
              "        vertical-align: top;\n",
              "    }\n",
              "\n",
              "    .dataframe thead th {\n",
              "        text-align: right;\n",
              "    }\n",
              "</style>\n",
              "<table border=\"1\" class=\"dataframe\">\n",
              "  <thead>\n",
              "    <tr style=\"text-align: right;\">\n",
              "      <th></th>\n",
              "      <th>NUMBER_SN</th>\n",
              "      <th>SYS_CREATED_ON</th>\n",
              "      <th>SHORT_DESCRIPTION</th>\n",
              "      <th>RA_ALUNO</th>\n",
              "      <th>FRENTE</th>\n",
              "    </tr>\n",
              "  </thead>\n",
              "  <tbody>\n",
              "    <tr>\n",
              "      <th>1</th>\n",
              "      <td>CS2245705</td>\n",
              "      <td>2020-03-14 14:08:30</td>\n",
              "      <td>PAD &gt; 1. Graduação Presencial &gt; Atendimento de...</td>\n",
              "      <td>3489323595</td>\n",
              "      <td>PRES</td>\n",
              "    </tr>\n",
              "    <tr>\n",
              "      <th>4</th>\n",
              "      <td>CS1496976</td>\n",
              "      <td>2020-01-30 16:14:06</td>\n",
              "      <td>PDA &gt; Serviços Acadêmicos &gt; Entregar Atividade...</td>\n",
              "      <td>818823833</td>\n",
              "      <td>PORTAL</td>\n",
              "    </tr>\n",
              "    <tr>\n",
              "      <th>5</th>\n",
              "      <td>CS1541894</td>\n",
              "      <td>2020-02-04 15:01:09</td>\n",
              "      <td>PDA &gt; Serviços Acadêmicos &gt; Atestado de Matrícula</td>\n",
              "      <td>379127814579</td>\n",
              "      <td>PORTAL</td>\n",
              "    </tr>\n",
              "    <tr>\n",
              "      <th>9</th>\n",
              "      <td>CS1550304</td>\n",
              "      <td>2020-02-04 20:57:00</td>\n",
              "      <td>PDA &gt; Serviços Financeiros &gt; Não Consigo Gerar...</td>\n",
              "      <td>365392513920</td>\n",
              "      <td>PORTAL</td>\n",
              "    </tr>\n",
              "    <tr>\n",
              "      <th>12</th>\n",
              "      <td>CS1913239</td>\n",
              "      <td>2020-03-03 12:23:24</td>\n",
              "      <td>PDA &gt; Serviços Acadêmicos &gt; Alterar Meu Curso ...</td>\n",
              "      <td>373087769067</td>\n",
              "      <td>PORTAL</td>\n",
              "    </tr>\n",
              "  </tbody>\n",
              "</table>\n",
              "</div>"
            ]
          },
          "metadata": {
            "tags": []
          },
          "execution_count": 12
        }
      ]
    },
    {
      "cell_type": "code",
      "metadata": {
        "colab": {
          "base_uri": "https://localhost:8080/",
          "height": 204
        },
        "id": "NMIH7R-MoczO",
        "outputId": "6727a1f2-686c-4ce0-f234-e69cc2515f81"
      },
      "source": [
        "df_base_calouros.head()"
      ],
      "execution_count": 13,
      "outputs": [
        {
          "output_type": "execute_result",
          "data": {
            "text/plain": [
              "    CODIGO_ALUNO  CODIGO_CURSO   DATA_LOG SITUACAO_ALUNO TIPO_ALUNO\n",
              "13      11185893           543 2020-06-25              E    Calouro\n",
              "14      11185893           543 2020-01-04              C    Calouro\n",
              "15      11185893           543 2020-01-03              P    Calouro\n",
              "19       3941358          2802 2020-02-20              C    Calouro\n",
              "20       3941358          2802 2020-01-22              P    Calouro"
            ],
            "text/html": [
              "<div>\n",
              "<style scoped>\n",
              "    .dataframe tbody tr th:only-of-type {\n",
              "        vertical-align: middle;\n",
              "    }\n",
              "\n",
              "    .dataframe tbody tr th {\n",
              "        vertical-align: top;\n",
              "    }\n",
              "\n",
              "    .dataframe thead th {\n",
              "        text-align: right;\n",
              "    }\n",
              "</style>\n",
              "<table border=\"1\" class=\"dataframe\">\n",
              "  <thead>\n",
              "    <tr style=\"text-align: right;\">\n",
              "      <th></th>\n",
              "      <th>CODIGO_ALUNO</th>\n",
              "      <th>CODIGO_CURSO</th>\n",
              "      <th>DATA_LOG</th>\n",
              "      <th>SITUACAO_ALUNO</th>\n",
              "      <th>TIPO_ALUNO</th>\n",
              "    </tr>\n",
              "  </thead>\n",
              "  <tbody>\n",
              "    <tr>\n",
              "      <th>13</th>\n",
              "      <td>11185893</td>\n",
              "      <td>543</td>\n",
              "      <td>2020-06-25</td>\n",
              "      <td>E</td>\n",
              "      <td>Calouro</td>\n",
              "    </tr>\n",
              "    <tr>\n",
              "      <th>14</th>\n",
              "      <td>11185893</td>\n",
              "      <td>543</td>\n",
              "      <td>2020-01-04</td>\n",
              "      <td>C</td>\n",
              "      <td>Calouro</td>\n",
              "    </tr>\n",
              "    <tr>\n",
              "      <th>15</th>\n",
              "      <td>11185893</td>\n",
              "      <td>543</td>\n",
              "      <td>2020-01-03</td>\n",
              "      <td>P</td>\n",
              "      <td>Calouro</td>\n",
              "    </tr>\n",
              "    <tr>\n",
              "      <th>19</th>\n",
              "      <td>3941358</td>\n",
              "      <td>2802</td>\n",
              "      <td>2020-02-20</td>\n",
              "      <td>C</td>\n",
              "      <td>Calouro</td>\n",
              "    </tr>\n",
              "    <tr>\n",
              "      <th>20</th>\n",
              "      <td>3941358</td>\n",
              "      <td>2802</td>\n",
              "      <td>2020-01-22</td>\n",
              "      <td>P</td>\n",
              "      <td>Calouro</td>\n",
              "    </tr>\n",
              "  </tbody>\n",
              "</table>\n",
              "</div>"
            ]
          },
          "metadata": {
            "tags": []
          },
          "execution_count": 13
        }
      ]
    },
    {
      "cell_type": "code",
      "metadata": {
        "colab": {
          "base_uri": "https://localhost:8080/"
        },
        "id": "ujVrTJJ_ohKB",
        "outputId": "80aeced3-08c4-468e-84b0-cb49fa2c0320"
      },
      "source": [
        "df_base_calouros['TIPO_ALUNO'].drop_duplicates()"
      ],
      "execution_count": 14,
      "outputs": [
        {
          "output_type": "execute_result",
          "data": {
            "text/plain": [
              "13    Calouro\n",
              "Name: TIPO_ALUNO, dtype: object"
            ]
          },
          "metadata": {
            "tags": []
          },
          "execution_count": 14
        }
      ]
    },
    {
      "cell_type": "code",
      "metadata": {
        "colab": {
          "base_uri": "https://localhost:8080/"
        },
        "id": "4uzcJWTdouBt",
        "outputId": "1c624c4c-5658-4169-b84c-d1fc7d4b440e"
      },
      "source": [
        "df_base_calouros_cursando_matriculado = df_base_calouros[df_base_calouros['SITUACAO_ALUNO'].isin([\"C\",\"F\",\"R\",\"S\",\"M\"])]\n",
        "df_base_calouros_cursando = df_base_calouros[df_base_calouros['SITUACAO_ALUNO'].isin([\"C\",\"F\",\"R\",\"S\"])]\n",
        "df_base_calouros_evadidos = df_base_calouros[df_base_calouros['SITUACAO_ALUNO'].isin([\"E\"])]\n",
        "df_base_calouros_transferidos = df_base_calouros[df_base_calouros['SITUACAO_ALUNO'].isin([\"T\"])]\n",
        "\n",
        "calouros_cursando_matriculado = df_base_calouros_cursando_matriculado[\"CODIGO_ALUNO\"].nunique()\n",
        "calouros_cursando = df_base_calouros_cursando[\"CODIGO_ALUNO\"].nunique()\n",
        "calouros_evadidos = df_base_calouros_evadidos[\"CODIGO_ALUNO\"].nunique()\n",
        "calouros_transferidos = df_base_calouros_transferidos[\"CODIGO_ALUNO\"].nunique()\n",
        "\n",
        "print(f'calouros_cursando_matriculado: {calouros_cursando_matriculado}')\n",
        "print(f'calouros_cursando: {calouros_cursando}')\n",
        "print(f'calouros_evadidos: {calouros_evadidos}')\n",
        "print(f'calouros_transferidos: {calouros_transferidos}')"
      ],
      "execution_count": 23,
      "outputs": [
        {
          "output_type": "stream",
          "text": [
            "calouros_cursando_matriculado: 98353\n",
            "calouros_cursando: 98352\n",
            "calouros_evadidos: 37435\n",
            "calouros_transferidos: 2918\n"
          ],
          "name": "stdout"
        }
      ]
    },
    {
      "cell_type": "code",
      "metadata": {
        "id": "jINkyLhLsVTX",
        "outputId": "526be219-504f-4110-8a25-b06f07fbfbff",
        "colab": {
          "base_uri": "https://localhost:8080/"
        }
      },
      "source": [
        "df_base_calouros_diff_cursando_matriculado_evadidos = df_base_calouros_cursando_matriculado[df_base_calouros_cursando_matriculado['CODIGO_ALUNO'].isin(df_base_calouros_evadidos['CODIGO_ALUNO'])]\n",
        "diff_cursando_matriculado_evadidos = df_base_calouros_diff_cursando_matriculado_evadidos[\"CODIGO_ALUNO\"].nunique()\n",
        "\n",
        "percent_calouros_cursando_matriculado_evadidos = diff_cursando_matriculado_evadidos/calouros_cursando_matriculado\n",
        "\n",
        "print(f'percent_calouros_cursando_matriculado_evadidos: {round(100*percent_calouros_cursando_matriculado_evadidos,2)}%')"
      ],
      "execution_count": 29,
      "outputs": [
        {
          "output_type": "stream",
          "text": [
            "percent_calouros_cursando_matriculado_evadidos: 33.49%\n"
          ],
          "name": "stdout"
        }
      ]
    },
    {
      "cell_type": "code",
      "metadata": {
        "id": "8eS7DZSIuQ6v",
        "outputId": "11da1f30-8ef8-470b-dee5-23487675ed18",
        "colab": {
          "base_uri": "https://localhost:8080/"
        }
      },
      "source": [
        "df_base_calouros_diff_cursando_evadidos = df_base_calouros_cursando[df_base_calouros_cursando['CODIGO_ALUNO'].isin(df_base_calouros_evadidos['CODIGO_ALUNO'])]\n",
        "diff_cursando_matriculado_evadidos = df_base_calouros_diff_cursando_evadidos[\"CODIGO_ALUNO\"].nunique()\n",
        "\n",
        "percent_calouros_cursando_evadidos = diff_cursando_matriculado_evadidos/calouros_cursando\n",
        "\n",
        "print(f'percent_calouros_cursando_evadidos: {round(100*percent_calouros_cursando_evadidos,2)}%')"
      ],
      "execution_count": 28,
      "outputs": [
        {
          "output_type": "stream",
          "text": [
            "percent_calouros_cursando_evadidos: 33.49%\n"
          ],
          "name": "stdout"
        }
      ]
    },
    {
      "cell_type": "code",
      "metadata": {
        "id": "ZpQ7HFkXuqgu",
        "outputId": "065dc0d7-bbb2-4582-dea5-0cc0cc08351a",
        "colab": {
          "base_uri": "https://localhost:8080/"
        }
      },
      "source": [
        "df_base_calouros_diff_cursando_matriculado_transferidos = df_base_calouros_cursando_matriculado[df_base_calouros_cursando_matriculado['CODIGO_ALUNO'].isin(df_base_calouros_transferidos['CODIGO_ALUNO'])]\n",
        "diff_cursando_matriculado_transferidos = df_base_calouros_diff_cursando_matriculado_transferidos[\"CODIGO_ALUNO\"].nunique()\n",
        "\n",
        "percent_calouros_cursando_matriculado_transferidos = diff_cursando_matriculado_transferidos/calouros_cursando_matriculado\n",
        "\n",
        "# print(diff_cursando_matriculado_transferidos,calouros_cursando_matriculado)\n",
        "print(f'percent_calouros_cursando_matriculado_transferidos: {round(100*percent_calouros_cursando_matriculado_transferidos,2)}%')"
      ],
      "execution_count": 36,
      "outputs": [
        {
          "output_type": "stream",
          "text": [
            "percent_calouros_cursando_matriculado_transferidos: 2.92%\n"
          ],
          "name": "stdout"
        }
      ]
    },
    {
      "cell_type": "code",
      "metadata": {
        "id": "mNtxJ1WrvDCh",
        "outputId": "45a48d54-3ee1-4410-f26f-19ea8986cfbc",
        "colab": {
          "base_uri": "https://localhost:8080/"
        }
      },
      "source": [
        "df_base_calouros_diff_cursando_transferidos = df_base_calouros_cursando[df_base_calouros_cursando['CODIGO_ALUNO'].isin(df_base_calouros_transferidos['CODIGO_ALUNO'])]\n",
        "diff_cursando_transferidos = df_base_calouros_diff_cursando_transferidos[\"CODIGO_ALUNO\"].nunique()\n",
        "\n",
        "percent_calouros_cursando_transferidos = diff_cursando_transferidos/calouros_cursando\n",
        "\n",
        "# print(diff_cursando_transferidos,calouros_cursando)\n",
        "print(f'percent_calouros_cursando_transferidos: {round(100*percent_calouros_cursando_transferidos,2)}%')"
      ],
      "execution_count": 37,
      "outputs": [
        {
          "output_type": "stream",
          "text": [
            "percent_calouros_cursando_transferidos: 2.92%\n"
          ],
          "name": "stdout"
        }
      ]
    }
  ]
}